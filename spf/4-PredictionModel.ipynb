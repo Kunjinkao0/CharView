{
 "cells": [
  {
   "cell_type": "code",
   "execution_count": 1,
   "id": "beaed2c6-a762-4823-85c2-1feea486f7b6",
   "metadata": {
    "colab": {
     "base_uri": "https://localhost:8080/"
    },
    "id": "beaed2c6-a762-4823-85c2-1feea486f7b6",
    "outputId": "690960dd-0664-4ae6-8f35-df88000d1618"
   },
   "outputs": [],
   "source": [
    "%load_ext autoreload\n",
    "%autoreload 2\n",
    "%matplotlib inline"
   ]
  },
  {
   "cell_type": "code",
   "execution_count": 62,
   "id": "fB5-ySZ0imsF",
   "metadata": {
    "colab": {
     "base_uri": "https://localhost:8080/"
    },
    "id": "fB5-ySZ0imsF",
    "outputId": "c86dd334-1182-4f58-defd-0f6efcc362c0"
   },
   "outputs": [],
   "source": [
    "# from google.colab import drive\n",
    "# drive.mount('/content/drive')"
   ]
  },
  {
   "cell_type": "code",
   "execution_count": 63,
   "id": "Bb1iOhPtiuiX",
   "metadata": {
    "id": "Bb1iOhPtiuiX"
   },
   "outputs": [],
   "source": [
    "#!pip install darts"
   ]
  },
  {
   "cell_type": "code",
   "execution_count": 2,
   "id": "e3b1b03a-26ab-4a33-9071-3a63a9c2f9c7",
   "metadata": {
    "id": "e3b1b03a-26ab-4a33-9071-3a63a9c2f9c7"
   },
   "outputs": [],
   "source": [
    "import warnings\n",
    "\n",
    "warnings.filterwarnings(\"ignore\")\n",
    "import logging\n",
    "\n",
    "logging.disable(logging.CRITICAL)\n",
    "\n",
    "import torch\n",
    "import matplotlib.pyplot as plt\n",
    "import numpy as np\n",
    "import pandas as pd\n",
    "from pytorch_lightning.callbacks.early_stopping import EarlyStopping\n",
    "\n",
    "from darts import concatenate,TimeSeries\n",
    "from darts.dataprocessing.transformers.scaler import Scaler\n",
    "from darts.metrics import mae, mse, mql\n",
    "from darts.models import TiDEModel, TSMixerModel\n",
    "from darts.utils.likelihood_models import QuantileRegression\n",
    "from darts.utils.callbacks import TFMProgressBar"
   ]
  },
  {
   "cell_type": "code",
   "execution_count": 3,
   "id": "b9a48e13-0d78-4dba-9bac-2875298ef74d",
   "metadata": {
    "id": "b9a48e13-0d78-4dba-9bac-2875298ef74d"
   },
   "outputs": [],
   "source": [
    "tsla_stock_data = pd.read_csv('data/prepared/tsla_feature_data.csv')"
   ]
  },
  {
   "cell_type": "code",
   "execution_count": 4,
   "id": "722e4882-dd79-4d70-9e7e-7f5116ac0452",
   "metadata": {
    "colab": {
     "base_uri": "https://localhost:8080/",
     "height": 400
    },
    "id": "722e4882-dd79-4d70-9e7e-7f5116ac0452",
    "outputId": "d5111223-3f22-4e9f-c116-50dcdc2bc89c"
   },
   "outputs": [
    {
     "data": {
      "text/html": [
       "<div>\n",
       "<style scoped>\n",
       "    .dataframe tbody tr th:only-of-type {\n",
       "        vertical-align: middle;\n",
       "    }\n",
       "\n",
       "    .dataframe tbody tr th {\n",
       "        vertical-align: top;\n",
       "    }\n",
       "\n",
       "    .dataframe thead th {\n",
       "        text-align: right;\n",
       "    }\n",
       "</style>\n",
       "<table border=\"1\" class=\"dataframe\">\n",
       "  <thead>\n",
       "    <tr style=\"text-align: right;\">\n",
       "      <th></th>\n",
       "      <th>Date</th>\n",
       "      <th>correl</th>\n",
       "      <th>linearreg_angle</th>\n",
       "      <th>ema_low</th>\n",
       "      <th>minus_di</th>\n",
       "      <th>bb_middleband</th>\n",
       "      <th>ultosc</th>\n",
       "      <th>bb_upperband</th>\n",
       "      <th>beta</th>\n",
       "      <th>cci</th>\n",
       "      <th>macdhist</th>\n",
       "      <th>mom</th>\n",
       "      <th>bb_lowerband</th>\n",
       "      <th>adosc</th>\n",
       "      <th>sentscore</th>\n",
       "      <th>return</th>\n",
       "    </tr>\n",
       "  </thead>\n",
       "  <tbody>\n",
       "    <tr>\n",
       "      <th>2637</th>\n",
       "      <td>2024-05-20 13:30:00</td>\n",
       "      <td>0.181112</td>\n",
       "      <td>0.568656</td>\n",
       "      <td>173.932653</td>\n",
       "      <td>2.323501</td>\n",
       "      <td>174.300198</td>\n",
       "      <td>31.200448</td>\n",
       "      <td>174.728215</td>\n",
       "      <td>0.402503</td>\n",
       "      <td>-76.025550</td>\n",
       "      <td>0.024674</td>\n",
       "      <td>0.411499</td>\n",
       "      <td>173.872182</td>\n",
       "      <td>-1.268478e+07</td>\n",
       "      <td>0.00000</td>\n",
       "      <td>0.001504</td>\n",
       "    </tr>\n",
       "    <tr>\n",
       "      <th>2638</th>\n",
       "      <td>2024-05-20 14:00:00</td>\n",
       "      <td>0.308363</td>\n",
       "      <td>-0.773613</td>\n",
       "      <td>173.795104</td>\n",
       "      <td>3.442977</td>\n",
       "      <td>174.354959</td>\n",
       "      <td>35.753214</td>\n",
       "      <td>174.700952</td>\n",
       "      <td>0.372684</td>\n",
       "      <td>-96.947627</td>\n",
       "      <td>0.011722</td>\n",
       "      <td>0.163895</td>\n",
       "      <td>174.008966</td>\n",
       "      <td>-9.813551e+06</td>\n",
       "      <td>0.00000</td>\n",
       "      <td>-0.001419</td>\n",
       "    </tr>\n",
       "    <tr>\n",
       "      <th>2639</th>\n",
       "      <td>2024-05-20 14:30:00</td>\n",
       "      <td>0.209193</td>\n",
       "      <td>-1.335443</td>\n",
       "      <td>173.916768</td>\n",
       "      <td>3.388051</td>\n",
       "      <td>174.446960</td>\n",
       "      <td>39.697156</td>\n",
       "      <td>174.723835</td>\n",
       "      <td>0.548314</td>\n",
       "      <td>-34.589722</td>\n",
       "      <td>0.020825</td>\n",
       "      <td>0.449997</td>\n",
       "      <td>174.170086</td>\n",
       "      <td>-7.413354e+06</td>\n",
       "      <td>0.00000</td>\n",
       "      <td>0.001642</td>\n",
       "    </tr>\n",
       "    <tr>\n",
       "      <th>2640</th>\n",
       "      <td>2024-05-20 15:00:00</td>\n",
       "      <td>0.081021</td>\n",
       "      <td>1.354211</td>\n",
       "      <td>174.091281</td>\n",
       "      <td>3.334100</td>\n",
       "      <td>174.496661</td>\n",
       "      <td>46.735409</td>\n",
       "      <td>174.904565</td>\n",
       "      <td>0.578682</td>\n",
       "      <td>22.851378</td>\n",
       "      <td>0.047840</td>\n",
       "      <td>0.168396</td>\n",
       "      <td>174.088758</td>\n",
       "      <td>-5.160001e+06</td>\n",
       "      <td>0.00000</td>\n",
       "      <td>0.002053</td>\n",
       "    </tr>\n",
       "    <tr>\n",
       "      <th>2641</th>\n",
       "      <td>2024-05-20 15:30:00</td>\n",
       "      <td>0.011543</td>\n",
       "      <td>4.611320</td>\n",
       "      <td>174.217521</td>\n",
       "      <td>3.271095</td>\n",
       "      <td>174.640762</td>\n",
       "      <td>50.379821</td>\n",
       "      <td>175.088607</td>\n",
       "      <td>0.651423</td>\n",
       "      <td>44.347506</td>\n",
       "      <td>0.065616</td>\n",
       "      <td>0.098801</td>\n",
       "      <td>174.192917</td>\n",
       "      <td>-2.727263e+06</td>\n",
       "      <td>0.27115</td>\n",
       "      <td>0.000352</td>\n",
       "    </tr>\n",
       "  </tbody>\n",
       "</table>\n",
       "</div>"
      ],
      "text/plain": [
       "                     Date    correl  linearreg_angle     ema_low  minus_di  \\\n",
       "2637  2024-05-20 13:30:00  0.181112         0.568656  173.932653  2.323501   \n",
       "2638  2024-05-20 14:00:00  0.308363        -0.773613  173.795104  3.442977   \n",
       "2639  2024-05-20 14:30:00  0.209193        -1.335443  173.916768  3.388051   \n",
       "2640  2024-05-20 15:00:00  0.081021         1.354211  174.091281  3.334100   \n",
       "2641  2024-05-20 15:30:00  0.011543         4.611320  174.217521  3.271095   \n",
       "\n",
       "      bb_middleband     ultosc  bb_upperband      beta        cci  macdhist  \\\n",
       "2637     174.300198  31.200448    174.728215  0.402503 -76.025550  0.024674   \n",
       "2638     174.354959  35.753214    174.700952  0.372684 -96.947627  0.011722   \n",
       "2639     174.446960  39.697156    174.723835  0.548314 -34.589722  0.020825   \n",
       "2640     174.496661  46.735409    174.904565  0.578682  22.851378  0.047840   \n",
       "2641     174.640762  50.379821    175.088607  0.651423  44.347506  0.065616   \n",
       "\n",
       "           mom  bb_lowerband         adosc  sentscore    return  \n",
       "2637  0.411499    173.872182 -1.268478e+07    0.00000  0.001504  \n",
       "2638  0.163895    174.008966 -9.813551e+06    0.00000 -0.001419  \n",
       "2639  0.449997    174.170086 -7.413354e+06    0.00000  0.001642  \n",
       "2640  0.168396    174.088758 -5.160001e+06    0.00000  0.002053  \n",
       "2641  0.098801    174.192917 -2.727263e+06    0.27115  0.000352  "
      ]
     },
     "execution_count": 4,
     "metadata": {},
     "output_type": "execute_result"
    }
   ],
   "source": [
    "tsla_stock_data.tail(5)"
   ]
  },
  {
   "cell_type": "code",
   "execution_count": 5,
   "id": "658bf18e-d635-460c-966f-1e00ec31dcb8",
   "metadata": {
    "id": "658bf18e-d635-460c-966f-1e00ec31dcb8"
   },
   "outputs": [],
   "source": [
    "tsla_stock_data_ts = TimeSeries.from_dataframe(tsla_stock_data,\n",
    "                                               time_col='Date',\n",
    "                                               freq='30min')"
   ]
  },
  {
   "cell_type": "code",
   "execution_count": 6,
   "id": "15677f88-9817-40a2-a298-b4b27f59ef80",
   "metadata": {
    "id": "15677f88-9817-40a2-a298-b4b27f59ef80"
   },
   "outputs": [],
   "source": [
    "tsla_stock_data_ts = tsla_stock_data_ts.astype(np.float32)"
   ]
  },
  {
   "cell_type": "code",
   "execution_count": 7,
   "id": "N2VegfZMoNKE",
   "metadata": {
    "colab": {
     "base_uri": "https://localhost:8080/"
    },
    "id": "N2VegfZMoNKE",
    "outputId": "b88bbffa-f7ab-49fc-d047-e69b6dc901e4"
   },
   "outputs": [
    {
     "data": {
      "text/plain": [
       "Index(['correl', 'linearreg_angle', 'ema_low', 'minus_di', 'bb_middleband',\n",
       "       'ultosc', 'bb_upperband', 'beta', 'cci', 'macdhist', 'mom',\n",
       "       'bb_lowerband', 'adosc', 'sentscore', 'return'],\n",
       "      dtype='object', name='component')"
      ]
     },
     "execution_count": 7,
     "metadata": {},
     "output_type": "execute_result"
    }
   ],
   "source": [
    "tsla_stock_data_ts.columns"
   ]
  },
  {
   "cell_type": "code",
   "execution_count": 8,
   "id": "GCM0uLIeoE8Z",
   "metadata": {
    "id": "GCM0uLIeoE8Z"
   },
   "outputs": [],
   "source": [
    "tsla_stock_data_ts_target = tsla_stock_data_ts['return']\n",
    "tsla_stock_data_ts_past = tsla_stock_data_ts[['correl', 'linearreg_angle', 'ema_low', 'minus_di', 'bb_middleband',\n",
    "       'ultosc', 'bb_upperband', 'beta', 'cci', 'macdhist', 'mom',\n",
    "       'bb_lowerband', 'adosc','sentscore']]\n",
    "#tsla_stock_data_ts_future = tsla_stock_data_ts['sentscore']"
   ]
  },
  {
   "cell_type": "code",
   "execution_count": 9,
   "id": "23a0c8e3-673f-43ac-86e3-a4fb4cf9b7ee",
   "metadata": {
    "id": "23a0c8e3-673f-43ac-86e3-a4fb4cf9b7ee"
   },
   "outputs": [],
   "source": [
    "# train, val, test = [], [], []\n",
    "# for trafo in tsla_stock_data_ts_target:\n",
    "#     train_, temp = tsla_stock_data_ts_target.split_after(0.6)\n",
    "#     val_, test_ = temp.split_after(0.5)\n",
    "#     train.append(train_)\n",
    "#     val.append(val_)\n",
    "#     test.append(test_)\n",
    "train, test = tsla_stock_data_ts_target.split_after(0.6)"
   ]
  },
  {
   "cell_type": "code",
   "execution_count": 10,
   "id": "0ef6966d-3fde-4087-9ad7-bd1e7c096c5e",
   "metadata": {},
   "outputs": [
    {
     "data": {
      "text/html": [
       "<div>\n",
       "<style scoped>\n",
       "    .dataframe tbody tr th:only-of-type {\n",
       "        vertical-align: middle;\n",
       "    }\n",
       "\n",
       "    .dataframe tbody tr th {\n",
       "        vertical-align: top;\n",
       "    }\n",
       "\n",
       "    .dataframe thead th {\n",
       "        text-align: right;\n",
       "    }\n",
       "</style>\n",
       "<table border=\"1\" class=\"dataframe\">\n",
       "  <thead>\n",
       "    <tr style=\"text-align: right;\">\n",
       "      <th>component</th>\n",
       "      <th>return</th>\n",
       "    </tr>\n",
       "    <tr>\n",
       "      <th>Date</th>\n",
       "      <th></th>\n",
       "    </tr>\n",
       "  </thead>\n",
       "  <tbody>\n",
       "    <tr>\n",
       "      <th>2024-04-28 13:00:00</th>\n",
       "      <td>0.0</td>\n",
       "    </tr>\n",
       "    <tr>\n",
       "      <th>2024-04-28 13:30:00</th>\n",
       "      <td>0.0</td>\n",
       "    </tr>\n",
       "    <tr>\n",
       "      <th>2024-04-28 14:00:00</th>\n",
       "      <td>0.0</td>\n",
       "    </tr>\n",
       "    <tr>\n",
       "      <th>2024-04-28 14:30:00</th>\n",
       "      <td>0.0</td>\n",
       "    </tr>\n",
       "    <tr>\n",
       "      <th>2024-04-28 15:00:00</th>\n",
       "      <td>0.0</td>\n",
       "    </tr>\n",
       "  </tbody>\n",
       "</table>\n",
       "</div>"
      ],
      "text/plain": [
       "component            return\n",
       "Date                       \n",
       "2024-04-28 13:00:00     0.0\n",
       "2024-04-28 13:30:00     0.0\n",
       "2024-04-28 14:00:00     0.0\n",
       "2024-04-28 14:30:00     0.0\n",
       "2024-04-28 15:00:00     0.0"
      ]
     },
     "execution_count": 10,
     "metadata": {},
     "output_type": "execute_result"
    }
   ],
   "source": [
    "train.pd_dataframe().tail()"
   ]
  },
  {
   "cell_type": "code",
   "execution_count": 11,
   "id": "42b959d3-6549-4741-a1d6-6d39a1a8f05c",
   "metadata": {},
   "outputs": [
    {
     "data": {
      "text/html": [
       "<div>\n",
       "<style scoped>\n",
       "    .dataframe tbody tr th:only-of-type {\n",
       "        vertical-align: middle;\n",
       "    }\n",
       "\n",
       "    .dataframe tbody tr th {\n",
       "        vertical-align: top;\n",
       "    }\n",
       "\n",
       "    .dataframe thead th {\n",
       "        text-align: right;\n",
       "    }\n",
       "</style>\n",
       "<table border=\"1\" class=\"dataframe\">\n",
       "  <thead>\n",
       "    <tr style=\"text-align: right;\">\n",
       "      <th>component</th>\n",
       "      <th>return</th>\n",
       "    </tr>\n",
       "    <tr>\n",
       "      <th>Date</th>\n",
       "      <th></th>\n",
       "    </tr>\n",
       "  </thead>\n",
       "  <tbody>\n",
       "    <tr>\n",
       "      <th>2024-05-20 13:30:00</th>\n",
       "      <td>0.001504</td>\n",
       "    </tr>\n",
       "    <tr>\n",
       "      <th>2024-05-20 14:00:00</th>\n",
       "      <td>-0.001419</td>\n",
       "    </tr>\n",
       "    <tr>\n",
       "      <th>2024-05-20 14:30:00</th>\n",
       "      <td>0.001642</td>\n",
       "    </tr>\n",
       "    <tr>\n",
       "      <th>2024-05-20 15:00:00</th>\n",
       "      <td>0.002053</td>\n",
       "    </tr>\n",
       "    <tr>\n",
       "      <th>2024-05-20 15:30:00</th>\n",
       "      <td>0.000352</td>\n",
       "    </tr>\n",
       "  </tbody>\n",
       "</table>\n",
       "</div>"
      ],
      "text/plain": [
       "component              return\n",
       "Date                         \n",
       "2024-05-20 13:30:00  0.001504\n",
       "2024-05-20 14:00:00 -0.001419\n",
       "2024-05-20 14:30:00  0.001642\n",
       "2024-05-20 15:00:00  0.002053\n",
       "2024-05-20 15:30:00  0.000352"
      ]
     },
     "execution_count": 11,
     "metadata": {},
     "output_type": "execute_result"
    }
   ],
   "source": [
    "test.pd_dataframe().tail()"
   ]
  },
  {
   "cell_type": "code",
   "execution_count": 12,
   "id": "be4cf1d6-f21f-4ac5-9a4a-979c977b5f3c",
   "metadata": {
    "id": "be4cf1d6-f21f-4ac5-9a4a-979c977b5f3c"
   },
   "outputs": [],
   "source": [
    "scaler = Scaler()  # default uses sklearn's MinMaxScaler\n",
    "train = scaler.fit_transform(train)\n",
    "test = scaler.transform(test)\n",
    "tsla_stock_data_ts_target = scaler.transform(tsla_stock_data_ts_target)"
   ]
  },
  {
   "cell_type": "code",
   "execution_count": 13,
   "id": "kaFXRwuQowfh",
   "metadata": {
    "id": "kaFXRwuQowfh"
   },
   "outputs": [],
   "source": [
    "train_past, test_past = tsla_stock_data_ts_past.split_after(0.6)\n",
    "\n",
    "scaler_past = Scaler()  # default uses sklearn's MinMaxScaler\n",
    "train_past = scaler_past.fit_transform(train_past)\n",
    "test_past = scaler_past.fit_transform(test_past)\n",
    "tsla_stock_data_ts_past = scaler_past.transform(tsla_stock_data_ts_past)"
   ]
  },
  {
   "cell_type": "code",
   "execution_count": 14,
   "id": "_GMGbVxYphIc",
   "metadata": {
    "id": "_GMGbVxYphIc"
   },
   "outputs": [],
   "source": [
    "# train_future, train_future = tsla_stock_data_ts_future.split_after(0.6)\n",
    "\n",
    "# scaler_future = Scaler()  # default uses sklearn's MinMaxScaler\n",
    "# train_future = scaler_future.fit_transform(train_future)\n",
    "# tsla_stock_data_ts_future = scaler_future.transform(tsla_stock_data_ts_future)"
   ]
  },
  {
   "cell_type": "code",
   "execution_count": 15,
   "id": "64851d08-4da0-4eca-923b-8ffaedfe2e5f",
   "metadata": {},
   "outputs": [],
   "source": [
    "import optuna\n",
    "from optuna.integration import PyTorchLightningPruningCallback\n",
    "from optuna.visualization import (\n",
    "    plot_optimization_history,\n",
    "    plot_contour,\n",
    "    plot_param_importances,\n",
    ")"
   ]
  },
  {
   "cell_type": "code",
   "execution_count": 16,
   "id": "a5ff9b90-4707-4b00-8b9b-a3e51fdc2954",
   "metadata": {
    "id": "a5ff9b90-4707-4b00-8b9b-a3e51fdc2954"
   },
   "outputs": [],
   "source": [
    "def create_params(\n",
    "    input_chunk_length: int,\n",
    "    output_chunk_length: int,\n",
    "    full_training=True,\n",
    "):\n",
    "    quantiles = [0.01,0.05,0.1,0.5,0.9,0.95,0.99]\n",
    "    #quantiles = [0.5,0.6,0.7,0.75,0.8,0.85,0.9,0.95,0.99]\n",
    "    # early stopping: this setting stops training once the the validation\n",
    "    # loss has not decreased by more than 1e-5 for 10 epochs\n",
    "    early_stopper = EarlyStopping(\n",
    "        monitor=\"train_loss\",\n",
    "        patience=10,\n",
    "        min_delta=1e-5,\n",
    "        mode=\"min\",\n",
    "    )\n",
    "    optuna_optimize = PyTorchLightningPruningCallback(100, monitor=\"train_loss\")\n",
    "\n",
    "    # PyTorch Lightning Trainer arguments (you can add any custom callback)\n",
    "    if full_training:\n",
    "        limit_train_batches = None\n",
    "        limit_val_batches = None\n",
    "        max_epochs = 200\n",
    "        batch_size = 256\n",
    "    else:\n",
    "        limit_train_batches = None\n",
    "        limit_val_batches = None\n",
    "        max_epochs = 200\n",
    "        batch_size = 256\n",
    "\n",
    "    # only show the training and prediction progress bars\n",
    "    progress_bar = TFMProgressBar(\n",
    "        enable_sanity_check_bar=False, enable_validation_bar=False\n",
    "    )\n",
    "    pl_trainer_kwargs = {\n",
    "        \"gradient_clip_val\": 1,\n",
    "        \"max_epochs\": max_epochs,\n",
    "        \"limit_train_batches\": limit_train_batches,\n",
    "        \"limit_val_batches\": limit_val_batches,\n",
    "        \"accelerator\": \"auto\",\n",
    "        \"callbacks\": [early_stopper, progress_bar],\n",
    "        #\"callbacks\": [progress_bar],\n",
    "        # \"accelerator\": \"gpu\",\n",
    "        # \"devices\": [0]\n",
    "    }\n",
    "\n",
    "    # optimizer setup, uses Adam by default\n",
    "    optimizer_cls = torch.optim.Adam\n",
    "    optimizer_kwargs = {\n",
    "        \"lr\": 1e-4,\n",
    "    }\n",
    "\n",
    "    # learning rate scheduler\n",
    "    lr_scheduler_cls = torch.optim.lr_scheduler.ExponentialLR\n",
    "    lr_scheduler_kwargs = {\"gamma\": 0.999}\n",
    "\n",
    "    # for probabilistic models, we use quantile regression, and set `loss_fn` to `None`\n",
    "    likelihood = QuantileRegression(quantiles=quantiles)\n",
    "    loss_fn = None\n",
    "\n",
    "    return {\n",
    "        \"input_chunk_length\": input_chunk_length,  # lookback window\n",
    "        \"output_chunk_length\": output_chunk_length,  # forecast/lookahead window\n",
    "        \"use_reversible_instance_norm\": True,\n",
    "        \"optimizer_kwargs\": optimizer_kwargs,\n",
    "        \"pl_trainer_kwargs\": pl_trainer_kwargs,\n",
    "        \"lr_scheduler_cls\": lr_scheduler_cls,\n",
    "        \"lr_scheduler_kwargs\": lr_scheduler_kwargs,\n",
    "        \"likelihood\": likelihood,  # use a `likelihood` for probabilistic forecasts\n",
    "        \"loss_fn\": loss_fn,  # use a `loss_fn` for determinsitic model\n",
    "        \"save_checkpoints\": True,  # checkpoint to retrieve the best performing model state,\n",
    "        \"force_reset\": True,\n",
    "        \"batch_size\": batch_size,\n",
    "        \"random_state\": 42,\n",
    "        \"work_dir\":'logs/',\n",
    "        \"add_encoders\": {\n",
    "            \"cyclic\": {\n",
    "                \"future\": [\"hour\", \"dayofweek\", \"month\"]\n",
    "            }  # add cyclic time axis encodings as future covariates\n",
    "        },\n",
    "    }"
   ]
  },
  {
   "cell_type": "code",
   "execution_count": 17,
   "id": "f5f424c7-1a19-47e5-825c-9479d24062ce",
   "metadata": {
    "id": "f5f424c7-1a19-47e5-825c-9479d24062ce"
   },
   "outputs": [],
   "source": [
    "input_chunk_length = 20 * 24\n",
    "output_chunk_length = 10*24\n",
    "use_static_covariates = True\n",
    "full_training = False"
   ]
  },
  {
   "cell_type": "code",
   "execution_count": 18,
   "id": "b9242f1a-6e47-4cff-8fe3-b9a1cf52b6c2",
   "metadata": {
    "id": "b9242f1a-6e47-4cff-8fe3-b9a1cf52b6c2"
   },
   "outputs": [],
   "source": [
    "model_tsm = TSMixerModel(\n",
    "    **create_params(\n",
    "        input_chunk_length,\n",
    "        output_chunk_length,\n",
    "        full_training=full_training,\n",
    "    ),\n",
    "    use_static_covariates=use_static_covariates,\n",
    "    model_name=\"tsm\",\n",
    "    log_tensorboard=True\n",
    ")"
   ]
  },
  {
   "cell_type": "code",
   "execution_count": 19,
   "id": "9bed9e4d-c35f-4b9a-8be6-9a6f9be3aa19",
   "metadata": {
    "colab": {
     "base_uri": "https://localhost:8080/",
     "height": 192,
     "referenced_widgets": [
      "f77a397a672c46b6b71b02cfa8a12beb",
      "40b0929c48b24445ae4fdb21ea2985b7",
      "da797f421a5b45f38dc463c0c0183dee",
      "7a21eaa6c71b448c8e4e0a8475d33877",
      "9760fa65c5114b6398a8c3fc4b979e94",
      "28b68ca198bb4999923b4cd7a08717f8",
      "050691a8246b4b6088a4cafb005bc3e9",
      "4cd7b31495bb4b01ac39784a4c2eea85",
      "9c5bd96dcb604a1c82f911beba43a5e9",
      "e5046fe5fc574f6c8e235519d7bc8895",
      "a6d4a2e16aaa43c989fb2f10ce1a5552"
     ]
    },
    "id": "9bed9e4d-c35f-4b9a-8be6-9a6f9be3aa19",
    "outputId": "d7747545-ccd7-44f7-fb97-f18bf2132d3c",
    "scrolled": true
   },
   "outputs": [
    {
     "name": "stdout",
     "output_type": "stream",
     "text": [
      "Epoch 108: 100%|████████████████████████████████████████████████████████████████████| 8/8 [00:00<00:00,  8.27it/s, v_num=logs, train_loss=0.0147]\n"
     ]
    },
    {
     "data": {
      "text/plain": [
       "TSMixerModel(output_chunk_shift=0, hidden_size=64, ff_size=64, num_blocks=2, activation=ReLU, dropout=0.1, norm_type=LayerNorm, normalize_before=False, use_static_covariates=True, input_chunk_length=480, output_chunk_length=240, use_reversible_instance_norm=True, optimizer_kwargs={'lr': 0.0001}, pl_trainer_kwargs={'gradient_clip_val': 1, 'max_epochs': 200, 'limit_train_batches': None, 'limit_val_batches': None, 'accelerator': 'auto', 'callbacks': [<pytorch_lightning.callbacks.early_stopping.EarlyStopping object at 0x315618450>, <darts.utils.callbacks.TFMProgressBar object at 0x318f48450>]}, lr_scheduler_cls=<class 'torch.optim.lr_scheduler.ExponentialLR'>, lr_scheduler_kwargs={'gamma': 0.999}, likelihood=QuantileRegression(quantiles: Optional[List[float]] = None), loss_fn=None, save_checkpoints=True, force_reset=True, batch_size=256, random_state=42, work_dir=logs/, add_encoders={'cyclic': {'future': ['hour', 'dayofweek', 'month']}}, model_name=tsm, log_tensorboard=True)"
      ]
     },
     "execution_count": 19,
     "metadata": {},
     "output_type": "execute_result"
    }
   ],
   "source": [
    "model_tsm.fit(series=tsla_stock_data_ts_target,\n",
    "              past_covariates=tsla_stock_data_ts_past,\n",
    "              #future_covariates=tsla_stock_data_ts_future\n",
    "              )"
   ]
  },
  {
   "cell_type": "code",
   "execution_count": 20,
   "id": "VZzdcM1_uJfY",
   "metadata": {
    "colab": {
     "base_uri": "https://localhost:8080/",
     "height": 49,
     "referenced_widgets": [
      "969e8a604f6d4c5f8ea9836debb64664",
      "5d87440a008f47c7bebfc46057be22e7",
      "554374fc0f0f4b6bba01435a52dd29c7",
      "aa106611e3134e8bbabced4a780203f9",
      "9881b2b7c93440c89ab90bccfa792082",
      "9647e6dc788d47ebb4a8f25642be1d80",
      "2303bfbc86bb40e7b1e884a93b87534d",
      "ec30de7915754adfa97e277497c77873",
      "e09c7bef77e14d6887529c76eec59c7f",
      "9d9e1c2e125942bbb8314bd6e7c00c7e",
      "70234b361f0e451b9ec555acbcab4f11"
     ]
    },
    "id": "VZzdcM1_uJfY",
    "outputId": "1c6d4d79-6942-4c4a-a25d-8e65038be34a"
   },
   "outputs": [
    {
     "name": "stdout",
     "output_type": "stream",
     "text": [
      "Predicting DataLoader 0: 100%|█████████████████████████████████████████████████████████████████████████████████████| 1/1 [00:01<00:00,  1.25s/it]\n"
     ]
    }
   ],
   "source": [
    "pred = model_tsm.predict(n=10*24,\n",
    "                         past_covariates=tsla_stock_data_ts_past,\n",
    "                         #future_covariates=tsla_stock_data_ts_future\n",
    "                         predict_likelihood_parameters=True\n",
    "                         )"
   ]
  },
  {
   "cell_type": "code",
   "execution_count": 21,
   "id": "93e5f1ff-9643-4d1e-9da7-e560cb4118c9",
   "metadata": {},
   "outputs": [],
   "source": [
    "pred_unscaler = scaler.inverse_transform(pred)"
   ]
  },
  {
   "cell_type": "code",
   "execution_count": 22,
   "id": "_QyqsA4iwGSG",
   "metadata": {
    "colab": {
     "base_uri": "https://localhost:8080/",
     "height": 649
    },
    "id": "_QyqsA4iwGSG",
    "outputId": "ccfc566f-9727-455a-9837-b9019c4dd438",
    "scrolled": true
   },
   "outputs": [
    {
     "data": {
      "text/html": [
       "<div>\n",
       "<style scoped>\n",
       "    .dataframe tbody tr th:only-of-type {\n",
       "        vertical-align: middle;\n",
       "    }\n",
       "\n",
       "    .dataframe tbody tr th {\n",
       "        vertical-align: top;\n",
       "    }\n",
       "\n",
       "    .dataframe thead th {\n",
       "        text-align: right;\n",
       "    }\n",
       "</style>\n",
       "<table border=\"1\" class=\"dataframe\">\n",
       "  <thead>\n",
       "    <tr style=\"text-align: right;\">\n",
       "      <th>component</th>\n",
       "      <th>return_q0.01</th>\n",
       "      <th>return_q0.05</th>\n",
       "      <th>return_q0.10</th>\n",
       "      <th>return_q0.50</th>\n",
       "      <th>return_q0.90</th>\n",
       "      <th>return_q0.95</th>\n",
       "      <th>return_q0.99</th>\n",
       "    </tr>\n",
       "    <tr>\n",
       "      <th>Date</th>\n",
       "      <th></th>\n",
       "      <th></th>\n",
       "      <th></th>\n",
       "      <th></th>\n",
       "      <th></th>\n",
       "      <th></th>\n",
       "      <th></th>\n",
       "    </tr>\n",
       "  </thead>\n",
       "  <tbody>\n",
       "    <tr>\n",
       "      <th>2024-05-20 16:00:00</th>\n",
       "      <td>-0.001500</td>\n",
       "      <td>-0.000446</td>\n",
       "      <td>-0.000237</td>\n",
       "      <td>0.000029</td>\n",
       "      <td>0.000251</td>\n",
       "      <td>0.000375</td>\n",
       "      <td>0.001892</td>\n",
       "    </tr>\n",
       "    <tr>\n",
       "      <th>2024-05-20 16:30:00</th>\n",
       "      <td>-0.001537</td>\n",
       "      <td>-0.000417</td>\n",
       "      <td>-0.000214</td>\n",
       "      <td>0.000031</td>\n",
       "      <td>0.000242</td>\n",
       "      <td>0.000423</td>\n",
       "      <td>0.001951</td>\n",
       "    </tr>\n",
       "    <tr>\n",
       "      <th>2024-05-20 17:00:00</th>\n",
       "      <td>-0.000961</td>\n",
       "      <td>-0.000332</td>\n",
       "      <td>-0.000126</td>\n",
       "      <td>0.000051</td>\n",
       "      <td>0.000209</td>\n",
       "      <td>0.000244</td>\n",
       "      <td>0.001170</td>\n",
       "    </tr>\n",
       "    <tr>\n",
       "      <th>2024-05-20 17:30:00</th>\n",
       "      <td>-0.000892</td>\n",
       "      <td>-0.000206</td>\n",
       "      <td>-0.000089</td>\n",
       "      <td>0.000040</td>\n",
       "      <td>0.000167</td>\n",
       "      <td>0.000182</td>\n",
       "      <td>0.001040</td>\n",
       "    </tr>\n",
       "    <tr>\n",
       "      <th>2024-05-20 18:00:00</th>\n",
       "      <td>-0.001022</td>\n",
       "      <td>-0.000162</td>\n",
       "      <td>-0.000073</td>\n",
       "      <td>-0.000004</td>\n",
       "      <td>0.000116</td>\n",
       "      <td>0.000181</td>\n",
       "      <td>0.000788</td>\n",
       "    </tr>\n",
       "    <tr>\n",
       "      <th>...</th>\n",
       "      <td>...</td>\n",
       "      <td>...</td>\n",
       "      <td>...</td>\n",
       "      <td>...</td>\n",
       "      <td>...</td>\n",
       "      <td>...</td>\n",
       "      <td>...</td>\n",
       "    </tr>\n",
       "    <tr>\n",
       "      <th>2024-05-25 13:30:00</th>\n",
       "      <td>-0.004639</td>\n",
       "      <td>-0.002211</td>\n",
       "      <td>-0.001296</td>\n",
       "      <td>-0.000004</td>\n",
       "      <td>0.001334</td>\n",
       "      <td>0.002172</td>\n",
       "      <td>0.005918</td>\n",
       "    </tr>\n",
       "    <tr>\n",
       "      <th>2024-05-25 14:00:00</th>\n",
       "      <td>-0.003875</td>\n",
       "      <td>-0.001989</td>\n",
       "      <td>-0.001076</td>\n",
       "      <td>0.000027</td>\n",
       "      <td>0.001049</td>\n",
       "      <td>0.001911</td>\n",
       "      <td>0.005209</td>\n",
       "    </tr>\n",
       "    <tr>\n",
       "      <th>2024-05-25 14:30:00</th>\n",
       "      <td>-0.003120</td>\n",
       "      <td>-0.001402</td>\n",
       "      <td>-0.000625</td>\n",
       "      <td>0.000059</td>\n",
       "      <td>0.000573</td>\n",
       "      <td>0.001116</td>\n",
       "      <td>0.004513</td>\n",
       "    </tr>\n",
       "    <tr>\n",
       "      <th>2024-05-25 15:00:00</th>\n",
       "      <td>-0.002595</td>\n",
       "      <td>-0.001078</td>\n",
       "      <td>-0.000473</td>\n",
       "      <td>0.000055</td>\n",
       "      <td>0.000478</td>\n",
       "      <td>0.000828</td>\n",
       "      <td>0.003534</td>\n",
       "    </tr>\n",
       "    <tr>\n",
       "      <th>2024-05-25 15:30:00</th>\n",
       "      <td>-0.002021</td>\n",
       "      <td>-0.000611</td>\n",
       "      <td>-0.000207</td>\n",
       "      <td>0.000038</td>\n",
       "      <td>0.000306</td>\n",
       "      <td>0.000434</td>\n",
       "      <td>0.002768</td>\n",
       "    </tr>\n",
       "  </tbody>\n",
       "</table>\n",
       "<p>240 rows × 7 columns</p>\n",
       "</div>"
      ],
      "text/plain": [
       "component            return_q0.01  return_q0.05  return_q0.10  return_q0.50  \\\n",
       "Date                                                                          \n",
       "2024-05-20 16:00:00     -0.001500     -0.000446     -0.000237      0.000029   \n",
       "2024-05-20 16:30:00     -0.001537     -0.000417     -0.000214      0.000031   \n",
       "2024-05-20 17:00:00     -0.000961     -0.000332     -0.000126      0.000051   \n",
       "2024-05-20 17:30:00     -0.000892     -0.000206     -0.000089      0.000040   \n",
       "2024-05-20 18:00:00     -0.001022     -0.000162     -0.000073     -0.000004   \n",
       "...                           ...           ...           ...           ...   \n",
       "2024-05-25 13:30:00     -0.004639     -0.002211     -0.001296     -0.000004   \n",
       "2024-05-25 14:00:00     -0.003875     -0.001989     -0.001076      0.000027   \n",
       "2024-05-25 14:30:00     -0.003120     -0.001402     -0.000625      0.000059   \n",
       "2024-05-25 15:00:00     -0.002595     -0.001078     -0.000473      0.000055   \n",
       "2024-05-25 15:30:00     -0.002021     -0.000611     -0.000207      0.000038   \n",
       "\n",
       "component            return_q0.90  return_q0.95  return_q0.99  \n",
       "Date                                                           \n",
       "2024-05-20 16:00:00      0.000251      0.000375      0.001892  \n",
       "2024-05-20 16:30:00      0.000242      0.000423      0.001951  \n",
       "2024-05-20 17:00:00      0.000209      0.000244      0.001170  \n",
       "2024-05-20 17:30:00      0.000167      0.000182      0.001040  \n",
       "2024-05-20 18:00:00      0.000116      0.000181      0.000788  \n",
       "...                           ...           ...           ...  \n",
       "2024-05-25 13:30:00      0.001334      0.002172      0.005918  \n",
       "2024-05-25 14:00:00      0.001049      0.001911      0.005209  \n",
       "2024-05-25 14:30:00      0.000573      0.001116      0.004513  \n",
       "2024-05-25 15:00:00      0.000478      0.000828      0.003534  \n",
       "2024-05-25 15:30:00      0.000306      0.000434      0.002768  \n",
       "\n",
       "[240 rows x 7 columns]"
      ]
     },
     "execution_count": 22,
     "metadata": {},
     "output_type": "execute_result"
    }
   ],
   "source": [
    "pred_unscaler.pd_dataframe()"
   ]
  },
  {
   "cell_type": "code",
   "execution_count": 23,
   "id": "B1wBXl-D3CfR",
   "metadata": {
    "id": "B1wBXl-D3CfR"
   },
   "outputs": [],
   "source": [
    "# before starting, we define some constants\n",
    "num_samples = 500\n",
    "\n",
    "figsize = (10, 6)\n",
    "lowest_q, low_q, high_q, highest_q = 0.01, 0.1, 0.9, 0.99\n",
    "label_q_outer = f\"{int(lowest_q * 100)}-{int(highest_q * 100)}th percentiles\"\n",
    "label_q_inner = f\"{int(low_q * 100)}-{int(high_q * 100)}th percentiles\""
   ]
  },
  {
   "cell_type": "code",
   "execution_count": 24,
   "id": "cMxo0a8f3L6h",
   "metadata": {
    "id": "cMxo0a8f3L6h"
   },
   "outputs": [],
   "source": [
    "from darts.metrics import mape\n",
    "from datetime import datetime, timedelta"
   ]
  },
  {
   "cell_type": "code",
   "execution_count": 25,
   "id": "x7hgMQIh2nkh",
   "metadata": {
    "id": "x7hgMQIh2nkh"
   },
   "outputs": [],
   "source": [
    "def eval_model(model, forecast_horizon, actual_series):\n",
    "    pred_series = model.predict(n=forecast_horizon,\n",
    "                                past_covariates=tsla_stock_data_ts_past,\n",
    "                                predict_likelihood_parameters=True)\n",
    "    pred_series = pred_series[['return_q0.90','return_q0.95','return_q0.99']]\n",
    "\n",
    "    # Rescale data to real value (Inverse transform)\n",
    "    pred_series = scaler.inverse_transform(pred_series)\n",
    "    actual_series = scaler.inverse_transform(actual_series)\n",
    "\n",
    "    # plot actual series\n",
    "    plt.figure(figsize=figsize)\n",
    "    end = pred_series.end_time()\n",
    "    start = end - timedelta(days=30)\n",
    "    actual_series[start:end].plot(label=\"actual\")\n",
    "\n",
    "    # plot prediction with quantile ranges\n",
    "    #pred_series.plot(low_quantile=lowest_q, high_quantile=highest_q, label=label_q_outer)\n",
    "    pred_series.plot(low_quantile=low_q, high_quantile=high_q, label=label_q_inner)"
   ]
  },
  {
   "cell_type": "code",
   "execution_count": 26,
   "id": "qjriGMN83eww",
   "metadata": {
    "colab": {
     "base_uri": "https://localhost:8080/",
     "height": 605,
     "referenced_widgets": [
      "9c8caa9fda1f4b76bd03d4a2e87b5dda",
      "80a6c289b2754d66858283c84578ae38",
      "204623e60b6d44b382045b965924d49f",
      "efd7c9c5644c4ee5983e963a3c1715a8",
      "176b116f11ef430e82403cf5556f8058",
      "a257099d790c4201b4506bd731dbd623",
      "a07771d96b364bbf983d53fca5c8ac6a",
      "8c1dacbcb7f6490aa94c5fc1c0949f5b",
      "2084298e01634069bd8d5d4730dee2f8",
      "30af141d135c4eb78913e3c3e3661719",
      "df30e8c18ff64532ad17a06664e1fcfa"
     ]
    },
    "id": "qjriGMN83eww",
    "outputId": "2fe19cab-c66f-44ae-9e62-5418af2f9da7",
    "scrolled": true
   },
   "outputs": [
    {
     "name": "stdout",
     "output_type": "stream",
     "text": [
      "Predicting DataLoader 0: 100%|████████████████████████████████████████████████████████████████████████████████████| 1/1 [00:00<00:00, 125.03it/s]\n"
     ]
    },
    {
     "data": {
      "image/png": "[encoded data removed]",
      "text/plain": [
       "<Figure size 1000x600 with 1 Axes>"
      ]
     },
     "metadata": {},
     "output_type": "display_data"
    }
   ],
   "source": [
    "eval_model(model_tsm,240,tsla_stock_data_ts_target)"
   ]
  },
  {
   "cell_type": "code",
   "execution_count": 27,
   "id": "b24b2180-d0ff-43b4-b43e-0b6adfb9ca27",
   "metadata": {},
   "outputs": [
    {
     "name": "stdout",
     "output_type": "stream",
     "text": [
      "Predicting DataLoader 0: 100%|████████████████████████████████████████████████████████████████████████████████████| 1/1 [00:00<00:00, 119.76it/s]\n"
     ]
    }
   ],
   "source": [
    "pred_test = model_tsm.predict(n=10*24,\n",
    "                              predict_likelihood_parameters=True\n",
    "                         )"
   ]
  },
  {
   "cell_type": "code",
   "execution_count": 28,
   "id": "5c24cc72-86ae-4b32-8707-e76a485511a0",
   "metadata": {},
   "outputs": [],
   "source": [
    "pred_test_unscaler = scaler.inverse_transform(pred_test)"
   ]
  },
  {
   "cell_type": "code",
   "execution_count": 29,
   "id": "2774afd9-ae62-448a-9712-56af3e3d59e9",
   "metadata": {},
   "outputs": [
    {
     "data": {
      "text/html": [
       "<div>\n",
       "<style scoped>\n",
       "    .dataframe tbody tr th:only-of-type {\n",
       "        vertical-align: middle;\n",
       "    }\n",
       "\n",
       "    .dataframe tbody tr th {\n",
       "        vertical-align: top;\n",
       "    }\n",
       "\n",
       "    .dataframe thead th {\n",
       "        text-align: right;\n",
       "    }\n",
       "</style>\n",
       "<table border=\"1\" class=\"dataframe\">\n",
       "  <thead>\n",
       "    <tr style=\"text-align: right;\">\n",
       "      <th>component</th>\n",
       "      <th>return_q0.01</th>\n",
       "      <th>return_q0.05</th>\n",
       "      <th>return_q0.10</th>\n",
       "      <th>return_q0.50</th>\n",
       "      <th>return_q0.90</th>\n",
       "      <th>return_q0.95</th>\n",
       "      <th>return_q0.99</th>\n",
       "    </tr>\n",
       "    <tr>\n",
       "      <th>Date</th>\n",
       "      <th></th>\n",
       "      <th></th>\n",
       "      <th></th>\n",
       "      <th></th>\n",
       "      <th></th>\n",
       "      <th></th>\n",
       "      <th></th>\n",
       "    </tr>\n",
       "  </thead>\n",
       "  <tbody>\n",
       "    <tr>\n",
       "      <th>2024-05-20</th>\n",
       "      <td>-0.002581</td>\n",
       "      <td>-0.000275</td>\n",
       "      <td>-0.000107</td>\n",
       "      <td>0.000037</td>\n",
       "      <td>0.000214</td>\n",
       "      <td>0.000299</td>\n",
       "      <td>0.001182</td>\n",
       "    </tr>\n",
       "    <tr>\n",
       "      <th>2024-05-21</th>\n",
       "      <td>-0.005467</td>\n",
       "      <td>-0.001458</td>\n",
       "      <td>-0.001012</td>\n",
       "      <td>0.000026</td>\n",
       "      <td>0.001183</td>\n",
       "      <td>0.001687</td>\n",
       "      <td>0.003764</td>\n",
       "    </tr>\n",
       "    <tr>\n",
       "      <th>2024-05-22</th>\n",
       "      <td>-0.006082</td>\n",
       "      <td>-0.001651</td>\n",
       "      <td>-0.001131</td>\n",
       "      <td>0.000039</td>\n",
       "      <td>0.001329</td>\n",
       "      <td>0.001873</td>\n",
       "      <td>0.004053</td>\n",
       "    </tr>\n",
       "    <tr>\n",
       "      <th>2024-05-23</th>\n",
       "      <td>-0.005910</td>\n",
       "      <td>-0.001514</td>\n",
       "      <td>-0.001001</td>\n",
       "      <td>0.000060</td>\n",
       "      <td>0.001219</td>\n",
       "      <td>0.001717</td>\n",
       "      <td>0.003739</td>\n",
       "    </tr>\n",
       "    <tr>\n",
       "      <th>2024-05-24</th>\n",
       "      <td>-0.005093</td>\n",
       "      <td>-0.001029</td>\n",
       "      <td>-0.000583</td>\n",
       "      <td>0.000057</td>\n",
       "      <td>0.000739</td>\n",
       "      <td>0.001119</td>\n",
       "      <td>0.003196</td>\n",
       "    </tr>\n",
       "    <tr>\n",
       "      <th>2024-05-25</th>\n",
       "      <td>-0.005245</td>\n",
       "      <td>-0.000909</td>\n",
       "      <td>-0.000449</td>\n",
       "      <td>0.000046</td>\n",
       "      <td>0.000561</td>\n",
       "      <td>0.000960</td>\n",
       "      <td>0.003833</td>\n",
       "    </tr>\n",
       "  </tbody>\n",
       "</table>\n",
       "</div>"
      ],
      "text/plain": [
       "component   return_q0.01  return_q0.05  return_q0.10  return_q0.50  \\\n",
       "Date                                                                 \n",
       "2024-05-20     -0.002581     -0.000275     -0.000107      0.000037   \n",
       "2024-05-21     -0.005467     -0.001458     -0.001012      0.000026   \n",
       "2024-05-22     -0.006082     -0.001651     -0.001131      0.000039   \n",
       "2024-05-23     -0.005910     -0.001514     -0.001001      0.000060   \n",
       "2024-05-24     -0.005093     -0.001029     -0.000583      0.000057   \n",
       "2024-05-25     -0.005245     -0.000909     -0.000449      0.000046   \n",
       "\n",
       "component   return_q0.90  return_q0.95  return_q0.99  \n",
       "Date                                                  \n",
       "2024-05-20      0.000214      0.000299      0.001182  \n",
       "2024-05-21      0.001183      0.001687      0.003764  \n",
       "2024-05-22      0.001329      0.001873      0.004053  \n",
       "2024-05-23      0.001219      0.001717      0.003739  \n",
       "2024-05-24      0.000739      0.001119      0.003196  \n",
       "2024-05-25      0.000561      0.000960      0.003833  "
      ]
     },
     "execution_count": 29,
     "metadata": {},
     "output_type": "execute_result"
    }
   ],
   "source": [
    "pred_test_unscaler.pd_dataframe().resample('1d').mean()"
   ]
  },
  {
   "cell_type": "code",
   "execution_count": 32,
   "id": "21c27813-190b-48f0-81eb-c580dabd7ded",
   "metadata": {},
   "outputs": [],
   "source": [
    "# Save the model\n",
    "model_tsm.save('model/tsla_tsm_0520.pkl')"
   ]
  },
  {
   "cell_type": "markdown",
   "id": "41519cab-c188-4970-b388-72b5390bcf0c",
   "metadata": {},
   "source": [
    "## Evaluation Loss"
   ]
  },
  {
   "cell_type": "code",
   "execution_count": 33,
   "id": "0e4de8f3-c88b-4166-812b-f65c8b9e1982",
   "metadata": {
    "scrolled": true
   },
   "outputs": [
    {
     "name": "stdout",
     "output_type": "stream",
     "text": [
      "Epoch 0: 100%|██████████████████████████████████████████████████████████████████████| 4/4 [00:01<00:00,  3.10it/s, v_num=logs, train_loss=0.0157]\n"
     ]
    },
    {
     "data": {
      "text/plain": [
       "TSMixerModel(output_chunk_shift=0, hidden_size=64, ff_size=64, num_blocks=2, activation=ReLU, dropout=0.1, norm_type=LayerNorm, normalize_before=False, use_static_covariates=True, input_chunk_length=480, output_chunk_length=240, use_reversible_instance_norm=True, optimizer_kwargs={'lr': 0.0001}, pl_trainer_kwargs={'gradient_clip_val': 1, 'max_epochs': 200, 'limit_train_batches': None, 'limit_val_batches': None, 'accelerator': 'auto', 'callbacks': [<pytorch_lightning.callbacks.early_stopping.EarlyStopping object at 0x315618450>, <darts.utils.callbacks.TFMProgressBar object at 0x318f48450>]}, lr_scheduler_cls=<class 'torch.optim.lr_scheduler.ExponentialLR'>, lr_scheduler_kwargs={'gamma': 0.999}, likelihood=QuantileRegression(quantiles: Optional[List[float]] = None), loss_fn=None, save_checkpoints=True, force_reset=True, batch_size=256, random_state=42, work_dir=logs/, add_encoders={'cyclic': {'future': ['hour', 'dayofweek', 'month']}}, model_name=tsm, log_tensorboard=True)"
      ]
     },
     "execution_count": 33,
     "metadata": {},
     "output_type": "execute_result"
    }
   ],
   "source": [
    "model_tsm.fit(series=train,\n",
    "              past_covariates=tsla_stock_data_ts_past,\n",
    "              #future_covariates=tsla_stock_data_ts_future\n",
    "              )"
   ]
  },
  {
   "cell_type": "code",
   "execution_count": 34,
   "id": "16870f94-abed-4619-baee-c07c7a6ab0e7",
   "metadata": {},
   "outputs": [],
   "source": [
    "from darts.metrics import mape"
   ]
  },
  {
   "cell_type": "code",
   "execution_count": 35,
   "id": "8371d86d-a13e-4c93-9bb4-e01c1043a2c4",
   "metadata": {},
   "outputs": [
    {
     "name": "stdout",
     "output_type": "stream",
     "text": [
      "Predicting DataLoader 0: 100%|█████████████████████████████████████████████████████████████████████████████████████| 1/1 [00:01<00:00,  1.79s/it]\n",
      "Mean Absolute Percentage Error (MAPE): 3.913753032684326\n"
     ]
    }
   ],
   "source": [
    "# Make predictions\n",
    "prediction = model_tsm.predict(len(test))\n",
    "\n",
    "# Evaluate the model\n",
    "error = mape(test, prediction)\n",
    "print(f\"Mean Absolute Percentage Error (MAPE): {error}\")"
   ]
  },
  {
   "cell_type": "markdown",
   "id": "ecc2c075-c947-420c-b699-a2a440caf204",
   "metadata": {},
   "source": [
    "## The Information Coefficient (IC)"
   ]
  },
  {
   "cell_type": "markdown",
   "id": "0e9d57f9-4de4-4203-a94c-0ddcb4183a37",
   "metadata": {},
   "source": [
    "The Information Coefficient (IC) is a critical metric in evaluating the performance of a financial model, particularly in the context of investment management and stock selection."
   ]
  },
  {
   "cell_type": "markdown",
   "id": "3968c0bc-a8bc-4c75-a0b3-0b31fd49afa6",
   "metadata": {},
   "source": [
    "**Understand the Information Coefficient (IC)**: The IC measures the correlation between predicted returns (scores) and actual returns (close prices). It ranges from -1 to 1, where 1 indicates perfect positive correlation, -1 indicates perfect negative correlation, and 0 indicates no correlation "
   ]
  },
  {
   "cell_type": "code",
   "execution_count": 36,
   "id": "d080b29e-5e8c-4cfa-bec8-80a27d996fc6",
   "metadata": {},
   "outputs": [],
   "source": [
    "test_sentscore_value = test_past['sentscore'].pd_dataframe().rank()\n",
    "test_correl_value = test_past['correl'].pd_dataframe().rank() #\n",
    "test_ema_low_value = test_past['ema_low'].pd_dataframe().rank()\n",
    "prediction_values = prediction.pd_dataframe()\n",
    "test_values = prediction.pd_dataframe()"
   ]
  },
  {
   "cell_type": "code",
   "execution_count": 40,
   "id": "93173b70-d10e-4473-837a-1162614dfad6",
   "metadata": {},
   "outputs": [
    {
     "data": {
      "text/plain": [
       "0.015660521601661852"
      ]
     },
     "execution_count": 40,
     "metadata": {},
     "output_type": "execute_result"
    }
   ],
   "source": [
    "test_sentscore_value['sentscore'].corr(test_values['return'].shift(-1))"
   ]
  },
  {
   "cell_type": "code",
   "execution_count": 41,
   "id": "198a8b40-8b4b-4f87-8219-df3da79fa754",
   "metadata": {},
   "outputs": [
    {
     "data": {
      "text/plain": [
       "0.06518367719397279"
      ]
     },
     "execution_count": 41,
     "metadata": {},
     "output_type": "execute_result"
    }
   ],
   "source": [
    "test_correl_value['correl'].corr(test_values['return'].shift(-1))"
   ]
  },
  {
   "cell_type": "code",
   "execution_count": 42,
   "id": "2e08d181-00a5-4b27-b1eb-40bc7d53ef65",
   "metadata": {},
   "outputs": [],
   "source": [
    "ic = prediction_values['return'].corr(test_values['return'].shift(-1))"
   ]
  },
  {
   "cell_type": "code",
   "execution_count": 106,
   "id": "886cfe44-de10-4c6f-bf30-4dac14c13b1a",
   "metadata": {},
   "outputs": [
    {
     "name": "stdout",
     "output_type": "stream",
     "text": [
      "Information Coefficient (IC): 0.008373527513929264\n"
     ]
    }
   ],
   "source": [
    "print(f'Information Coefficient (IC): {ic}')"
   ]
  },
  {
   "cell_type": "markdown",
   "id": "58fd6c56-c9c7-4889-a1e0-00b7003bbf02",
   "metadata": {},
   "source": [
    "## Interpretation\n",
    "- **Lower MAPE**: Indicates better model accuracy. A MAPE of 0% means perfect predictions.\n",
    "- **Higher MAPE**: Indicates poorer model accuracy. For instance, a MAPE of 20% means that the average prediction error is 20% of the actual values."
   ]
  },
  {
   "cell_type": "code",
   "execution_count": 43,
   "id": "567a1888-d6d0-437b-83ef-0d9c0119d54d",
   "metadata": {},
   "outputs": [
    {
     "data": {
      "image/png": "[encoded data removed]",
      "text/plain": [
       "<Figure size 640x480 with 1 Axes>"
      ]
     },
     "metadata": {},
     "output_type": "display_data"
    }
   ],
   "source": [
    "# Plot the results\n",
    "tsla_stock_data_ts_target.plot(label='actual')\n",
    "prediction.plot(label='forecast', lw=3)\n",
    "plt.legend()\n",
    "plt.show()"
   ]
  },
  {
   "cell_type": "markdown",
   "id": "0da22560-d7c7-4c6f-9e0e-11cf55eda335",
   "metadata": {
    "id": "0da22560-d7c7-4c6f-9e0e-11cf55eda335"
   },
   "source": [
    "# Backtest the probabilistic models"
   ]
  },
  {
   "cell_type": "code",
   "execution_count": 44,
   "id": "1b63ed69-1903-4189-bcbb-0094752c0f4d",
   "metadata": {
    "id": "1b63ed69-1903-4189-bcbb-0094752c0f4d"
   },
   "outputs": [],
   "source": [
    "# configure the probabilistic prediction\n",
    "num_samples = 300\n",
    "forecast_horizon = output_chunk_length\n",
    "\n",
    "# compute the Mean Quantile Loss over these quantiles\n",
    "evaluate_quantiles = [0.01,0.05,0.1,0.5,0.9,0.95,0.99]"
   ]
  },
  {
   "cell_type": "code",
   "execution_count": 45,
   "id": "90b2fdb1-0403-4ccb-bdc2-a1f7845cff5f",
   "metadata": {
    "id": "90b2fdb1-0403-4ccb-bdc2-a1f7845cff5f"
   },
   "outputs": [],
   "source": [
    "def historical_forecasts(model):\n",
    "    \"\"\"Generates probabilistic historical forecasts for each transformer\n",
    "    and returns the inverse transformed results.\n",
    "\n",
    "    Each forecast covers 5*24h (forecast_horizon). The time between two forecasts\n",
    "    (stride) is also 5*24 hours.\n",
    "    \"\"\"\n",
    "    returnVal = model.historical_forecasts(\n",
    "        series=test,\n",
    "        forecast_horizon=forecast_horizon,\n",
    "        stride=forecast_horizon,\n",
    "        last_points_only=False,\n",
    "        retrain=False,\n",
    "        #num_samples=num_samples,\n",
    "        past_covariates=tsla_stock_data_ts_past,\n",
    "        #future_covariates=tsla_stock_data_ts_future,\n",
    "        predict_likelihood_parameters=True,\n",
    "        verbose=True,\n",
    "    )\n",
    "    return scaler.inverse_transform(returnVal[0])\n",
    "    #return scaler.inverse_transform(returnVal)\n",
    "    #return returnVal"
   ]
  },
  {
   "cell_type": "code",
   "execution_count": 46,
   "id": "65d04450-3514-4694-8fb6-1cc0124307cd",
   "metadata": {},
   "outputs": [
    {
     "name": "stdout",
     "output_type": "stream",
     "text": [
      "Predicting DataLoader 0: 100%|█████████████████████████████████████████████████████████████████████████████████████| 1/1 [00:00<00:00,  2.20it/s]\n"
     ]
    }
   ],
   "source": [
    "hfcs = historical_forecasts(model_tsm)"
   ]
  },
  {
   "cell_type": "code",
   "execution_count": 47,
   "id": "698da219-b29e-421c-a541-780581929cc4",
   "metadata": {},
   "outputs": [
    {
     "data": {
      "text/plain": [
       "<Axes: xlabel='Date'>"
      ]
     },
     "execution_count": 47,
     "metadata": {},
     "output_type": "execute_result"
    },
    {
     "data": {
      "image/png": "[encoded data removed]",
      "text/plain": [
       "<Figure size 640x480 with 1 Axes>"
      ]
     },
     "metadata": {},
     "output_type": "display_data"
    }
   ],
   "source": [
    "hfcs.pd_dataframe().plot()"
   ]
  },
  {
   "cell_type": "code",
   "execution_count": 209,
   "id": "91f3357b-60ce-4823-acf4-0723c58c3f6c",
   "metadata": {},
   "outputs": [],
   "source": [
    "# metric_kwargs = [{\"q\": q} for q in evaluate_quantiles]\n",
    "# metrics = [mql for _ in range(len(evaluate_quantiles))]\n",
    "# bt = model_tsm.backtest(series=tsla_stock_data_ts_target,\n",
    "#                         historical_forecasts=hfcs,\n",
    "#                         forecast_horizon=forecast_horizon,\n",
    "#                         stride=forecast_horizon,\n",
    "#                         retrain=False,\n",
    "#                         past_covariates=tsla_stock_data_ts_past,\n",
    "#                         last_points_only=False,\n",
    "#                         reduction=np.mean,  # this is actually the default,\n",
    "#                         #metric=metrics,\n",
    "#                         #metric_kwargs=metric_kwargs,\n",
    "#                         verbose=True,\n",
    "#                        )"
   ]
  },
  {
   "cell_type": "code",
   "execution_count": 210,
   "id": "279f7dee-b96d-43b7-9622-e7083ea1aebd",
   "metadata": {},
   "outputs": [],
   "source": [
    "#print(\"Average error (MAPE) over all historical forecasts: %.2f\" % bt)"
   ]
  }
 ],
 "metadata": {
  "colab": {
   "provenance": []
  },
  "kernelspec": {
   "display_name": "Python 3 (ipykernel)",
   "language": "python",
   "name": "python3"
  },
  "language_info": {
   "codemirror_mode": {
    "name": "ipython",
    "version": 3
   },
   "file_extension": ".py",
   "mimetype": "text/x-python",
   "name": "python",
   "nbconvert_exporter": "python",
   "pygments_lexer": "ipython3",
   "version": "3.11.9"
  },
  "widgets": {
   "application/vnd.jupyter.widget-state+json": {
    "050691a8246b4b6088a4cafb005bc3e9": {
     "model_module": "@jupyter-widgets/controls",
     "model_module_version": "1.5.0",
     "model_name": "DescriptionStyleModel",
     "state": {
      "_model_module": "@jupyter-widgets/controls",
      "_model_module_version": "1.5.0",
      "_model_name": "DescriptionStyleModel",
      "_view_count": null,
      "_view_module": "@jupyter-widgets/base",
      "_view_module_version": "1.2.0",
      "_view_name": "StyleView",
      "description_width": ""
     }
    },
    "0c8c6336e374458e97ddc3a27bd92ee8": {
     "model_module": "@jupyter-widgets/controls",
     "model_module_version": "1.5.0",
     "model_name": "ProgressStyleModel",
     "state": {
      "_model_module": "@jupyter-widgets/controls",
      "_model_module_version": "1.5.0",
      "_model_name": "ProgressStyleModel",
      "_view_count": null,
      "_view_module": "@jupyter-widgets/base",
      "_view_module_version": "1.2.0",
      "_view_name": "StyleView",
      "bar_color": null,
      "description_width": ""
     }
    },
    "176b116f11ef430e82403cf5556f8058": {
     "model_module": "@jupyter-widgets/base",
     "model_module_version": "1.2.0",
     "model_name": "LayoutModel",
     "state": {
      "_model_module": "@jupyter-widgets/base",
      "_model_module_version": "1.2.0",
      "_model_name": "LayoutModel",
      "_view_count": null,
      "_view_module": "@jupyter-widgets/base",
      "_view_module_version": "1.2.0",
      "_view_name": "LayoutView",
      "align_content": null,
      "align_items": null,
      "align_self": null,
      "border": null,
      "bottom": null,
      "display": "inline-flex",
      "flex": null,
      "flex_flow": "row wrap",
      "grid_area": null,
      "grid_auto_columns": null,
      "grid_auto_flow": null,
      "grid_auto_rows": null,
      "grid_column": null,
      "grid_gap": null,
      "grid_row": null,
      "grid_template_areas": null,
      "grid_template_columns": null,
      "grid_template_rows": null,
      "height": null,
      "justify_content": null,
      "justify_items": null,
      "left": null,
      "margin": null,
      "max_height": null,
      "max_width": null,
      "min_height": null,
      "min_width": null,
      "object_fit": null,
      "object_position": null,
      "order": null,
      "overflow": null,
      "overflow_x": null,
      "overflow_y": null,
      "padding": null,
      "right": null,
      "top": null,
      "visibility": null,
      "width": "100%"
     }
    },
    "204623e60b6d44b382045b965924d49f": {
     "model_module": "@jupyter-widgets/controls",
     "model_module_version": "1.5.0",
     "model_name": "FloatProgressModel",
     "state": {
      "_dom_classes": [],
      "_model_module": "@jupyter-widgets/controls",
      "_model_module_version": "1.5.0",
      "_model_name": "FloatProgressModel",
      "_view_count": null,
      "_view_module": "@jupyter-widgets/controls",
      "_view_module_version": "1.5.0",
      "_view_name": "ProgressView",
      "bar_style": "success",
      "description": "",
      "description_tooltip": null,
      "layout": "IPY_MODEL_8c1dacbcb7f6490aa94c5fc1c0949f5b",
      "max": 1,
      "min": 0,
      "orientation": "horizontal",
      "style": "IPY_MODEL_2084298e01634069bd8d5d4730dee2f8",
      "value": 1
     }
    },
    "2084298e01634069bd8d5d4730dee2f8": {
     "model_module": "@jupyter-widgets/controls",
     "model_module_version": "1.5.0",
     "model_name": "ProgressStyleModel",
     "state": {
      "_model_module": "@jupyter-widgets/controls",
      "_model_module_version": "1.5.0",
      "_model_name": "ProgressStyleModel",
      "_view_count": null,
      "_view_module": "@jupyter-widgets/base",
      "_view_module_version": "1.2.0",
      "_view_name": "StyleView",
      "bar_color": null,
      "description_width": ""
     }
    },
    "2303bfbc86bb40e7b1e884a93b87534d": {
     "model_module": "@jupyter-widgets/controls",
     "model_module_version": "1.5.0",
     "model_name": "DescriptionStyleModel",
     "state": {
      "_model_module": "@jupyter-widgets/controls",
      "_model_module_version": "1.5.0",
      "_model_name": "DescriptionStyleModel",
      "_view_count": null,
      "_view_module": "@jupyter-widgets/base",
      "_view_module_version": "1.2.0",
      "_view_name": "StyleView",
      "description_width": ""
     }
    },
    "28b68ca198bb4999923b4cd7a08717f8": {
     "model_module": "@jupyter-widgets/base",
     "model_module_version": "1.2.0",
     "model_name": "LayoutModel",
     "state": {
      "_model_module": "@jupyter-widgets/base",
      "_model_module_version": "1.2.0",
      "_model_name": "LayoutModel",
      "_view_count": null,
      "_view_module": "@jupyter-widgets/base",
      "_view_module_version": "1.2.0",
      "_view_name": "LayoutView",
      "align_content": null,
      "align_items": null,
      "align_self": null,
      "border": null,
      "bottom": null,
      "display": null,
      "flex": null,
      "flex_flow": null,
      "grid_area": null,
      "grid_auto_columns": null,
      "grid_auto_flow": null,
      "grid_auto_rows": null,
      "grid_column": null,
      "grid_gap": null,
      "grid_row": null,
      "grid_template_areas": null,
      "grid_template_columns": null,
      "grid_template_rows": null,
      "height": null,
      "justify_content": null,
      "justify_items": null,
      "left": null,
      "margin": null,
      "max_height": null,
      "max_width": null,
      "min_height": null,
      "min_width": null,
      "object_fit": null,
      "object_position": null,
      "order": null,
      "overflow": null,
      "overflow_x": null,
      "overflow_y": null,
      "padding": null,
      "right": null,
      "top": null,
      "visibility": null,
      "width": null
     }
    },
    "30af141d135c4eb78913e3c3e3661719": {
     "model_module": "@jupyter-widgets/base",
     "model_module_version": "1.2.0",
     "model_name": "LayoutModel",
     "state": {
      "_model_module": "@jupyter-widgets/base",
      "_model_module_version": "1.2.0",
      "_model_name": "LayoutModel",
      "_view_count": null,
      "_view_module": "@jupyter-widgets/base",
      "_view_module_version": "1.2.0",
      "_view_name": "LayoutView",
      "align_content": null,
      "align_items": null,
      "align_self": null,
      "border": null,
      "bottom": null,
      "display": null,
      "flex": null,
      "flex_flow": null,
      "grid_area": null,
      "grid_auto_columns": null,
      "grid_auto_flow": null,
      "grid_auto_rows": null,
      "grid_column": null,
      "grid_gap": null,
      "grid_row": null,
      "grid_template_areas": null,
      "grid_template_columns": null,
      "grid_template_rows": null,
      "height": null,
      "justify_content": null,
      "justify_items": null,
      "left": null,
      "margin": null,
      "max_height": null,
      "max_width": null,
      "min_height": null,
      "min_width": null,
      "object_fit": null,
      "object_position": null,
      "order": null,
      "overflow": null,
      "overflow_x": null,
      "overflow_y": null,
      "padding": null,
      "right": null,
      "top": null,
      "visibility": null,
      "width": null
     }
    },
    "40b0929c48b24445ae4fdb21ea2985b7": {
     "model_module": "@jupyter-widgets/controls",
     "model_module_version": "1.5.0",
     "model_name": "HTMLModel",
     "state": {
      "_dom_classes": [],
      "_model_module": "@jupyter-widgets/controls",
      "_model_module_version": "1.5.0",
      "_model_name": "HTMLModel",
      "_view_count": null,
      "_view_module": "@jupyter-widgets/controls",
      "_view_module_version": "1.5.0",
      "_view_name": "HTMLView",
      "description": "",
      "description_tooltip": null,
      "layout": "IPY_MODEL_28b68ca198bb4999923b4cd7a08717f8",
      "placeholder": "​",
      "style": "IPY_MODEL_050691a8246b4b6088a4cafb005bc3e9",
      "value": "Epoch 2: 100%"
     }
    },
    "4cd7b31495bb4b01ac39784a4c2eea85": {
     "model_module": "@jupyter-widgets/base",
     "model_module_version": "1.2.0",
     "model_name": "LayoutModel",
     "state": {
      "_model_module": "@jupyter-widgets/base",
      "_model_module_version": "1.2.0",
      "_model_name": "LayoutModel",
      "_view_count": null,
      "_view_module": "@jupyter-widgets/base",
      "_view_module_version": "1.2.0",
      "_view_name": "LayoutView",
      "align_content": null,
      "align_items": null,
      "align_self": null,
      "border": null,
      "bottom": null,
      "display": null,
      "flex": "2",
      "flex_flow": null,
      "grid_area": null,
      "grid_auto_columns": null,
      "grid_auto_flow": null,
      "grid_auto_rows": null,
      "grid_column": null,
      "grid_gap": null,
      "grid_row": null,
      "grid_template_areas": null,
      "grid_template_columns": null,
      "grid_template_rows": null,
      "height": null,
      "justify_content": null,
      "justify_items": null,
      "left": null,
      "margin": null,
      "max_height": null,
      "max_width": null,
      "min_height": null,
      "min_width": null,
      "object_fit": null,
      "object_position": null,
      "order": null,
      "overflow": null,
      "overflow_x": null,
      "overflow_y": null,
      "padding": null,
      "right": null,
      "top": null,
      "visibility": null,
      "width": null
     }
    },
    "4dc99c066be848ad912fed5089665ecc": {
     "model_module": "@jupyter-widgets/base",
     "model_module_version": "1.2.0",
     "model_name": "LayoutModel",
     "state": {
      "_model_module": "@jupyter-widgets/base",
      "_model_module_version": "1.2.0",
      "_model_name": "LayoutModel",
      "_view_count": null,
      "_view_module": "@jupyter-widgets/base",
      "_view_module_version": "1.2.0",
      "_view_name": "LayoutView",
      "align_content": null,
      "align_items": null,
      "align_self": null,
      "border": null,
      "bottom": null,
      "display": null,
      "flex": null,
      "flex_flow": null,
      "grid_area": null,
      "grid_auto_columns": null,
      "grid_auto_flow": null,
      "grid_auto_rows": null,
      "grid_column": null,
      "grid_gap": null,
      "grid_row": null,
      "grid_template_areas": null,
      "grid_template_columns": null,
      "grid_template_rows": null,
      "height": null,
      "justify_content": null,
      "justify_items": null,
      "left": null,
      "margin": null,
      "max_height": null,
      "max_width": null,
      "min_height": null,
      "min_width": null,
      "object_fit": null,
      "object_position": null,
      "order": null,
      "overflow": null,
      "overflow_x": null,
      "overflow_y": null,
      "padding": null,
      "right": null,
      "top": null,
      "visibility": null,
      "width": null
     }
    },
    "554374fc0f0f4b6bba01435a52dd29c7": {
     "model_module": "@jupyter-widgets/controls",
     "model_module_version": "1.5.0",
     "model_name": "FloatProgressModel",
     "state": {
      "_dom_classes": [],
      "_model_module": "@jupyter-widgets/controls",
      "_model_module_version": "1.5.0",
      "_model_name": "FloatProgressModel",
      "_view_count": null,
      "_view_module": "@jupyter-widgets/controls",
      "_view_module_version": "1.5.0",
      "_view_name": "ProgressView",
      "bar_style": "success",
      "description": "",
      "description_tooltip": null,
      "layout": "IPY_MODEL_ec30de7915754adfa97e277497c77873",
      "max": 1,
      "min": 0,
      "orientation": "horizontal",
      "style": "IPY_MODEL_e09c7bef77e14d6887529c76eec59c7f",
      "value": 1
     }
    },
    "5d87440a008f47c7bebfc46057be22e7": {
     "model_module": "@jupyter-widgets/controls",
     "model_module_version": "1.5.0",
     "model_name": "HTMLModel",
     "state": {
      "_dom_classes": [],
      "_model_module": "@jupyter-widgets/controls",
      "_model_module_version": "1.5.0",
      "_model_name": "HTMLModel",
      "_view_count": null,
      "_view_module": "@jupyter-widgets/controls",
      "_view_module_version": "1.5.0",
      "_view_name": "HTMLView",
      "description": "",
      "description_tooltip": null,
      "layout": "IPY_MODEL_9647e6dc788d47ebb4a8f25642be1d80",
      "placeholder": "​",
      "style": "IPY_MODEL_2303bfbc86bb40e7b1e884a93b87534d",
      "value": "Predicting DataLoader 0: 100%"
     }
    },
    "70234b361f0e451b9ec555acbcab4f11": {
     "model_module": "@jupyter-widgets/controls",
     "model_module_version": "1.5.0",
     "model_name": "DescriptionStyleModel",
     "state": {
      "_model_module": "@jupyter-widgets/controls",
      "_model_module_version": "1.5.0",
      "_model_name": "DescriptionStyleModel",
      "_view_count": null,
      "_view_module": "@jupyter-widgets/base",
      "_view_module_version": "1.2.0",
      "_view_name": "StyleView",
      "description_width": ""
     }
    },
    "7a21eaa6c71b448c8e4e0a8475d33877": {
     "model_module": "@jupyter-widgets/controls",
     "model_module_version": "1.5.0",
     "model_name": "HTMLModel",
     "state": {
      "_dom_classes": [],
      "_model_module": "@jupyter-widgets/controls",
      "_model_module_version": "1.5.0",
      "_model_name": "HTMLModel",
      "_view_count": null,
      "_view_module": "@jupyter-widgets/controls",
      "_view_module_version": "1.5.0",
      "_view_name": "HTMLView",
      "description": "",
      "description_tooltip": null,
      "layout": "IPY_MODEL_e5046fe5fc574f6c8e235519d7bc8895",
      "placeholder": "​",
      "style": "IPY_MODEL_a6d4a2e16aaa43c989fb2f10ce1a5552",
      "value": " 20/20 [00:10&lt;00:00,  1.94it/s, train_loss=0.0108]"
     }
    },
    "7beae00d04134643846caef9b088a2ca": {
     "model_module": "@jupyter-widgets/base",
     "model_module_version": "1.2.0",
     "model_name": "LayoutModel",
     "state": {
      "_model_module": "@jupyter-widgets/base",
      "_model_module_version": "1.2.0",
      "_model_name": "LayoutModel",
      "_view_count": null,
      "_view_module": "@jupyter-widgets/base",
      "_view_module_version": "1.2.0",
      "_view_name": "LayoutView",
      "align_content": null,
      "align_items": null,
      "align_self": null,
      "border": null,
      "bottom": null,
      "display": "inline-flex",
      "flex": null,
      "flex_flow": "row wrap",
      "grid_area": null,
      "grid_auto_columns": null,
      "grid_auto_flow": null,
      "grid_auto_rows": null,
      "grid_column": null,
      "grid_gap": null,
      "grid_row": null,
      "grid_template_areas": null,
      "grid_template_columns": null,
      "grid_template_rows": null,
      "height": null,
      "justify_content": null,
      "justify_items": null,
      "left": null,
      "margin": null,
      "max_height": null,
      "max_width": null,
      "min_height": null,
      "min_width": null,
      "object_fit": null,
      "object_position": null,
      "order": null,
      "overflow": null,
      "overflow_x": null,
      "overflow_y": null,
      "padding": null,
      "right": null,
      "top": null,
      "visibility": null,
      "width": "100%"
     }
    },
    "80a6c289b2754d66858283c84578ae38": {
     "model_module": "@jupyter-widgets/controls",
     "model_module_version": "1.5.0",
     "model_name": "HTMLModel",
     "state": {
      "_dom_classes": [],
      "_model_module": "@jupyter-widgets/controls",
      "_model_module_version": "1.5.0",
      "_model_name": "HTMLModel",
      "_view_count": null,
      "_view_module": "@jupyter-widgets/controls",
      "_view_module_version": "1.5.0",
      "_view_name": "HTMLView",
      "description": "",
      "description_tooltip": null,
      "layout": "IPY_MODEL_a257099d790c4201b4506bd731dbd623",
      "placeholder": "​",
      "style": "IPY_MODEL_a07771d96b364bbf983d53fca5c8ac6a",
      "value": "Predicting DataLoader 0: 100%"
     }
    },
    "86090bf5cfdc4e459fd8a6ea112e4a0b": {
     "model_module": "@jupyter-widgets/controls",
     "model_module_version": "1.5.0",
     "model_name": "HTMLModel",
     "state": {
      "_dom_classes": [],
      "_model_module": "@jupyter-widgets/controls",
      "_model_module_version": "1.5.0",
      "_model_name": "HTMLModel",
      "_view_count": null,
      "_view_module": "@jupyter-widgets/controls",
      "_view_module_version": "1.5.0",
      "_view_name": "HTMLView",
      "description": "",
      "description_tooltip": null,
      "layout": "IPY_MODEL_9401a012e4d4445c9b7cc217b17d8f98",
      "placeholder": "​",
      "style": "IPY_MODEL_b49d485a11ce410082c7949c854e0acc",
      "value": "Predicting DataLoader 0: 100%"
     }
    },
    "8c1dacbcb7f6490aa94c5fc1c0949f5b": {
     "model_module": "@jupyter-widgets/base",
     "model_module_version": "1.2.0",
     "model_name": "LayoutModel",
     "state": {
      "_model_module": "@jupyter-widgets/base",
      "_model_module_version": "1.2.0",
      "_model_name": "LayoutModel",
      "_view_count": null,
      "_view_module": "@jupyter-widgets/base",
      "_view_module_version": "1.2.0",
      "_view_name": "LayoutView",
      "align_content": null,
      "align_items": null,
      "align_self": null,
      "border": null,
      "bottom": null,
      "display": null,
      "flex": "2",
      "flex_flow": null,
      "grid_area": null,
      "grid_auto_columns": null,
      "grid_auto_flow": null,
      "grid_auto_rows": null,
      "grid_column": null,
      "grid_gap": null,
      "grid_row": null,
      "grid_template_areas": null,
      "grid_template_columns": null,
      "grid_template_rows": null,
      "height": null,
      "justify_content": null,
      "justify_items": null,
      "left": null,
      "margin": null,
      "max_height": null,
      "max_width": null,
      "min_height": null,
      "min_width": null,
      "object_fit": null,
      "object_position": null,
      "order": null,
      "overflow": null,
      "overflow_x": null,
      "overflow_y": null,
      "padding": null,
      "right": null,
      "top": null,
      "visibility": null,
      "width": null
     }
    },
    "9401a012e4d4445c9b7cc217b17d8f98": {
     "model_module": "@jupyter-widgets/base",
     "model_module_version": "1.2.0",
     "model_name": "LayoutModel",
     "state": {
      "_model_module": "@jupyter-widgets/base",
      "_model_module_version": "1.2.0",
      "_model_name": "LayoutModel",
      "_view_count": null,
      "_view_module": "@jupyter-widgets/base",
      "_view_module_version": "1.2.0",
      "_view_name": "LayoutView",
      "align_content": null,
      "align_items": null,
      "align_self": null,
      "border": null,
      "bottom": null,
      "display": null,
      "flex": null,
      "flex_flow": null,
      "grid_area": null,
      "grid_auto_columns": null,
      "grid_auto_flow": null,
      "grid_auto_rows": null,
      "grid_column": null,
      "grid_gap": null,
      "grid_row": null,
      "grid_template_areas": null,
      "grid_template_columns": null,
      "grid_template_rows": null,
      "height": null,
      "justify_content": null,
      "justify_items": null,
      "left": null,
      "margin": null,
      "max_height": null,
      "max_width": null,
      "min_height": null,
      "min_width": null,
      "object_fit": null,
      "object_position": null,
      "order": null,
      "overflow": null,
      "overflow_x": null,
      "overflow_y": null,
      "padding": null,
      "right": null,
      "top": null,
      "visibility": null,
      "width": null
     }
    },
    "9647e6dc788d47ebb4a8f25642be1d80": {
     "model_module": "@jupyter-widgets/base",
     "model_module_version": "1.2.0",
     "model_name": "LayoutModel",
     "state": {
      "_model_module": "@jupyter-widgets/base",
      "_model_module_version": "1.2.0",
      "_model_name": "LayoutModel",
      "_view_count": null,
      "_view_module": "@jupyter-widgets/base",
      "_view_module_version": "1.2.0",
      "_view_name": "LayoutView",
      "align_content": null,
      "align_items": null,
      "align_self": null,
      "border": null,
      "bottom": null,
      "display": null,
      "flex": null,
      "flex_flow": null,
      "grid_area": null,
      "grid_auto_columns": null,
      "grid_auto_flow": null,
      "grid_auto_rows": null,
      "grid_column": null,
      "grid_gap": null,
      "grid_row": null,
      "grid_template_areas": null,
      "grid_template_columns": null,
      "grid_template_rows": null,
      "height": null,
      "justify_content": null,
      "justify_items": null,
      "left": null,
      "margin": null,
      "max_height": null,
      "max_width": null,
      "min_height": null,
      "min_width": null,
      "object_fit": null,
      "object_position": null,
      "order": null,
      "overflow": null,
      "overflow_x": null,
      "overflow_y": null,
      "padding": null,
      "right": null,
      "top": null,
      "visibility": null,
      "width": null
     }
    },
    "969e8a604f6d4c5f8ea9836debb64664": {
     "model_module": "@jupyter-widgets/controls",
     "model_module_version": "1.5.0",
     "model_name": "HBoxModel",
     "state": {
      "_dom_classes": [],
      "_model_module": "@jupyter-widgets/controls",
      "_model_module_version": "1.5.0",
      "_model_name": "HBoxModel",
      "_view_count": null,
      "_view_module": "@jupyter-widgets/controls",
      "_view_module_version": "1.5.0",
      "_view_name": "HBoxView",
      "box_style": "",
      "children": [
       "IPY_MODEL_5d87440a008f47c7bebfc46057be22e7",
       "IPY_MODEL_554374fc0f0f4b6bba01435a52dd29c7",
       "IPY_MODEL_aa106611e3134e8bbabced4a780203f9"
      ],
      "layout": "IPY_MODEL_9881b2b7c93440c89ab90bccfa792082"
     }
    },
    "9760fa65c5114b6398a8c3fc4b979e94": {
     "model_module": "@jupyter-widgets/base",
     "model_module_version": "1.2.0",
     "model_name": "LayoutModel",
     "state": {
      "_model_module": "@jupyter-widgets/base",
      "_model_module_version": "1.2.0",
      "_model_name": "LayoutModel",
      "_view_count": null,
      "_view_module": "@jupyter-widgets/base",
      "_view_module_version": "1.2.0",
      "_view_name": "LayoutView",
      "align_content": null,
      "align_items": null,
      "align_self": null,
      "border": null,
      "bottom": null,
      "display": "inline-flex",
      "flex": null,
      "flex_flow": "row wrap",
      "grid_area": null,
      "grid_auto_columns": null,
      "grid_auto_flow": null,
      "grid_auto_rows": null,
      "grid_column": null,
      "grid_gap": null,
      "grid_row": null,
      "grid_template_areas": null,
      "grid_template_columns": null,
      "grid_template_rows": null,
      "height": null,
      "justify_content": null,
      "justify_items": null,
      "left": null,
      "margin": null,
      "max_height": null,
      "max_width": null,
      "min_height": null,
      "min_width": null,
      "object_fit": null,
      "object_position": null,
      "order": null,
      "overflow": null,
      "overflow_x": null,
      "overflow_y": null,
      "padding": null,
      "right": null,
      "top": null,
      "visibility": null,
      "width": "100%"
     }
    },
    "9881b2b7c93440c89ab90bccfa792082": {
     "model_module": "@jupyter-widgets/base",
     "model_module_version": "1.2.0",
     "model_name": "LayoutModel",
     "state": {
      "_model_module": "@jupyter-widgets/base",
      "_model_module_version": "1.2.0",
      "_model_name": "LayoutModel",
      "_view_count": null,
      "_view_module": "@jupyter-widgets/base",
      "_view_module_version": "1.2.0",
      "_view_name": "LayoutView",
      "align_content": null,
      "align_items": null,
      "align_self": null,
      "border": null,
      "bottom": null,
      "display": "inline-flex",
      "flex": null,
      "flex_flow": "row wrap",
      "grid_area": null,
      "grid_auto_columns": null,
      "grid_auto_flow": null,
      "grid_auto_rows": null,
      "grid_column": null,
      "grid_gap": null,
      "grid_row": null,
      "grid_template_areas": null,
      "grid_template_columns": null,
      "grid_template_rows": null,
      "height": null,
      "justify_content": null,
      "justify_items": null,
      "left": null,
      "margin": null,
      "max_height": null,
      "max_width": null,
      "min_height": null,
      "min_width": null,
      "object_fit": null,
      "object_position": null,
      "order": null,
      "overflow": null,
      "overflow_x": null,
      "overflow_y": null,
      "padding": null,
      "right": null,
      "top": null,
      "visibility": null,
      "width": "100%"
     }
    },
    "9c5bd96dcb604a1c82f911beba43a5e9": {
     "model_module": "@jupyter-widgets/controls",
     "model_module_version": "1.5.0",
     "model_name": "ProgressStyleModel",
     "state": {
      "_model_module": "@jupyter-widgets/controls",
      "_model_module_version": "1.5.0",
      "_model_name": "ProgressStyleModel",
      "_view_count": null,
      "_view_module": "@jupyter-widgets/base",
      "_view_module_version": "1.2.0",
      "_view_name": "StyleView",
      "bar_color": null,
      "description_width": ""
     }
    },
    "9c685a385e304771ad5221a91a8cada2": {
     "model_module": "@jupyter-widgets/controls",
     "model_module_version": "1.5.0",
     "model_name": "HTMLModel",
     "state": {
      "_dom_classes": [],
      "_model_module": "@jupyter-widgets/controls",
      "_model_module_version": "1.5.0",
      "_model_name": "HTMLModel",
      "_view_count": null,
      "_view_module": "@jupyter-widgets/controls",
      "_view_module_version": "1.5.0",
      "_view_name": "HTMLView",
      "description": "",
      "description_tooltip": null,
      "layout": "IPY_MODEL_4dc99c066be848ad912fed5089665ecc",
      "placeholder": "​",
      "style": "IPY_MODEL_c3a6c931321c4758ad98316bf34b6071",
      "value": " 1/1 [00:00&lt;00:00, 14.29it/s]"
     }
    },
    "9c8caa9fda1f4b76bd03d4a2e87b5dda": {
     "model_module": "@jupyter-widgets/controls",
     "model_module_version": "1.5.0",
     "model_name": "HBoxModel",
     "state": {
      "_dom_classes": [],
      "_model_module": "@jupyter-widgets/controls",
      "_model_module_version": "1.5.0",
      "_model_name": "HBoxModel",
      "_view_count": null,
      "_view_module": "@jupyter-widgets/controls",
      "_view_module_version": "1.5.0",
      "_view_name": "HBoxView",
      "box_style": "",
      "children": [
       "IPY_MODEL_80a6c289b2754d66858283c84578ae38",
       "IPY_MODEL_204623e60b6d44b382045b965924d49f",
       "IPY_MODEL_efd7c9c5644c4ee5983e963a3c1715a8"
      ],
      "layout": "IPY_MODEL_176b116f11ef430e82403cf5556f8058"
     }
    },
    "9d9e1c2e125942bbb8314bd6e7c00c7e": {
     "model_module": "@jupyter-widgets/base",
     "model_module_version": "1.2.0",
     "model_name": "LayoutModel",
     "state": {
      "_model_module": "@jupyter-widgets/base",
      "_model_module_version": "1.2.0",
      "_model_name": "LayoutModel",
      "_view_count": null,
      "_view_module": "@jupyter-widgets/base",
      "_view_module_version": "1.2.0",
      "_view_name": "LayoutView",
      "align_content": null,
      "align_items": null,
      "align_self": null,
      "border": null,
      "bottom": null,
      "display": null,
      "flex": null,
      "flex_flow": null,
      "grid_area": null,
      "grid_auto_columns": null,
      "grid_auto_flow": null,
      "grid_auto_rows": null,
      "grid_column": null,
      "grid_gap": null,
      "grid_row": null,
      "grid_template_areas": null,
      "grid_template_columns": null,
      "grid_template_rows": null,
      "height": null,
      "justify_content": null,
      "justify_items": null,
      "left": null,
      "margin": null,
      "max_height": null,
      "max_width": null,
      "min_height": null,
      "min_width": null,
      "object_fit": null,
      "object_position": null,
      "order": null,
      "overflow": null,
      "overflow_x": null,
      "overflow_y": null,
      "padding": null,
      "right": null,
      "top": null,
      "visibility": null,
      "width": null
     }
    },
    "a07771d96b364bbf983d53fca5c8ac6a": {
     "model_module": "@jupyter-widgets/controls",
     "model_module_version": "1.5.0",
     "model_name": "DescriptionStyleModel",
     "state": {
      "_model_module": "@jupyter-widgets/controls",
      "_model_module_version": "1.5.0",
      "_model_name": "DescriptionStyleModel",
      "_view_count": null,
      "_view_module": "@jupyter-widgets/base",
      "_view_module_version": "1.2.0",
      "_view_name": "StyleView",
      "description_width": ""
     }
    },
    "a257099d790c4201b4506bd731dbd623": {
     "model_module": "@jupyter-widgets/base",
     "model_module_version": "1.2.0",
     "model_name": "LayoutModel",
     "state": {
      "_model_module": "@jupyter-widgets/base",
      "_model_module_version": "1.2.0",
      "_model_name": "LayoutModel",
      "_view_count": null,
      "_view_module": "@jupyter-widgets/base",
      "_view_module_version": "1.2.0",
      "_view_name": "LayoutView",
      "align_content": null,
      "align_items": null,
      "align_self": null,
      "border": null,
      "bottom": null,
      "display": null,
      "flex": null,
      "flex_flow": null,
      "grid_area": null,
      "grid_auto_columns": null,
      "grid_auto_flow": null,
      "grid_auto_rows": null,
      "grid_column": null,
      "grid_gap": null,
      "grid_row": null,
      "grid_template_areas": null,
      "grid_template_columns": null,
      "grid_template_rows": null,
      "height": null,
      "justify_content": null,
      "justify_items": null,
      "left": null,
      "margin": null,
      "max_height": null,
      "max_width": null,
      "min_height": null,
      "min_width": null,
      "object_fit": null,
      "object_position": null,
      "order": null,
      "overflow": null,
      "overflow_x": null,
      "overflow_y": null,
      "padding": null,
      "right": null,
      "top": null,
      "visibility": null,
      "width": null
     }
    },
    "a6d4a2e16aaa43c989fb2f10ce1a5552": {
     "model_module": "@jupyter-widgets/controls",
     "model_module_version": "1.5.0",
     "model_name": "DescriptionStyleModel",
     "state": {
      "_model_module": "@jupyter-widgets/controls",
      "_model_module_version": "1.5.0",
      "_model_name": "DescriptionStyleModel",
      "_view_count": null,
      "_view_module": "@jupyter-widgets/base",
      "_view_module_version": "1.2.0",
      "_view_name": "StyleView",
      "description_width": ""
     }
    },
    "aa106611e3134e8bbabced4a780203f9": {
     "model_module": "@jupyter-widgets/controls",
     "model_module_version": "1.5.0",
     "model_name": "HTMLModel",
     "state": {
      "_dom_classes": [],
      "_model_module": "@jupyter-widgets/controls",
      "_model_module_version": "1.5.0",
      "_model_name": "HTMLModel",
      "_view_count": null,
      "_view_module": "@jupyter-widgets/controls",
      "_view_module_version": "1.5.0",
      "_view_name": "HTMLView",
      "description": "",
      "description_tooltip": null,
      "layout": "IPY_MODEL_9d9e1c2e125942bbb8314bd6e7c00c7e",
      "placeholder": "​",
      "style": "IPY_MODEL_70234b361f0e451b9ec555acbcab4f11",
      "value": " 1/1 [00:00&lt;00:00, 55.82it/s]"
     }
    },
    "b49d485a11ce410082c7949c854e0acc": {
     "model_module": "@jupyter-widgets/controls",
     "model_module_version": "1.5.0",
     "model_name": "DescriptionStyleModel",
     "state": {
      "_model_module": "@jupyter-widgets/controls",
      "_model_module_version": "1.5.0",
      "_model_name": "DescriptionStyleModel",
      "_view_count": null,
      "_view_module": "@jupyter-widgets/base",
      "_view_module_version": "1.2.0",
      "_view_name": "StyleView",
      "description_width": ""
     }
    },
    "c3a6c931321c4758ad98316bf34b6071": {
     "model_module": "@jupyter-widgets/controls",
     "model_module_version": "1.5.0",
     "model_name": "DescriptionStyleModel",
     "state": {
      "_model_module": "@jupyter-widgets/controls",
      "_model_module_version": "1.5.0",
      "_model_name": "DescriptionStyleModel",
      "_view_count": null,
      "_view_module": "@jupyter-widgets/base",
      "_view_module_version": "1.2.0",
      "_view_name": "StyleView",
      "description_width": ""
     }
    },
    "da797f421a5b45f38dc463c0c0183dee": {
     "model_module": "@jupyter-widgets/controls",
     "model_module_version": "1.5.0",
     "model_name": "FloatProgressModel",
     "state": {
      "_dom_classes": [],
      "_model_module": "@jupyter-widgets/controls",
      "_model_module_version": "1.5.0",
      "_model_name": "FloatProgressModel",
      "_view_count": null,
      "_view_module": "@jupyter-widgets/controls",
      "_view_module_version": "1.5.0",
      "_view_name": "ProgressView",
      "bar_style": "success",
      "description": "",
      "description_tooltip": null,
      "layout": "IPY_MODEL_4cd7b31495bb4b01ac39784a4c2eea85",
      "max": 20,
      "min": 0,
      "orientation": "horizontal",
      "style": "IPY_MODEL_9c5bd96dcb604a1c82f911beba43a5e9",
      "value": 20
     }
    },
    "dbe49b7e404b40e298dddf04422baf7b": {
     "model_module": "@jupyter-widgets/controls",
     "model_module_version": "1.5.0",
     "model_name": "HBoxModel",
     "state": {
      "_dom_classes": [],
      "_model_module": "@jupyter-widgets/controls",
      "_model_module_version": "1.5.0",
      "_model_name": "HBoxModel",
      "_view_count": null,
      "_view_module": "@jupyter-widgets/controls",
      "_view_module_version": "1.5.0",
      "_view_name": "HBoxView",
      "box_style": "",
      "children": [
       "IPY_MODEL_86090bf5cfdc4e459fd8a6ea112e4a0b",
       "IPY_MODEL_ec45df5d41a5478c90e5f33cb53201e2",
       "IPY_MODEL_9c685a385e304771ad5221a91a8cada2"
      ],
      "layout": "IPY_MODEL_7beae00d04134643846caef9b088a2ca"
     }
    },
    "df30e8c18ff64532ad17a06664e1fcfa": {
     "model_module": "@jupyter-widgets/controls",
     "model_module_version": "1.5.0",
     "model_name": "DescriptionStyleModel",
     "state": {
      "_model_module": "@jupyter-widgets/controls",
      "_model_module_version": "1.5.0",
      "_model_name": "DescriptionStyleModel",
      "_view_count": null,
      "_view_module": "@jupyter-widgets/base",
      "_view_module_version": "1.2.0",
      "_view_name": "StyleView",
      "description_width": ""
     }
    },
    "e09c7bef77e14d6887529c76eec59c7f": {
     "model_module": "@jupyter-widgets/controls",
     "model_module_version": "1.5.0",
     "model_name": "ProgressStyleModel",
     "state": {
      "_model_module": "@jupyter-widgets/controls",
      "_model_module_version": "1.5.0",
      "_model_name": "ProgressStyleModel",
      "_view_count": null,
      "_view_module": "@jupyter-widgets/base",
      "_view_module_version": "1.2.0",
      "_view_name": "StyleView",
      "bar_color": null,
      "description_width": ""
     }
    },
    "e5046fe5fc574f6c8e235519d7bc8895": {
     "model_module": "@jupyter-widgets/base",
     "model_module_version": "1.2.0",
     "model_name": "LayoutModel",
     "state": {
      "_model_module": "@jupyter-widgets/base",
      "_model_module_version": "1.2.0",
      "_model_name": "LayoutModel",
      "_view_count": null,
      "_view_module": "@jupyter-widgets/base",
      "_view_module_version": "1.2.0",
      "_view_name": "LayoutView",
      "align_content": null,
      "align_items": null,
      "align_self": null,
      "border": null,
      "bottom": null,
      "display": null,
      "flex": null,
      "flex_flow": null,
      "grid_area": null,
      "grid_auto_columns": null,
      "grid_auto_flow": null,
      "grid_auto_rows": null,
      "grid_column": null,
      "grid_gap": null,
      "grid_row": null,
      "grid_template_areas": null,
      "grid_template_columns": null,
      "grid_template_rows": null,
      "height": null,
      "justify_content": null,
      "justify_items": null,
      "left": null,
      "margin": null,
      "max_height": null,
      "max_width": null,
      "min_height": null,
      "min_width": null,
      "object_fit": null,
      "object_position": null,
      "order": null,
      "overflow": null,
      "overflow_x": null,
      "overflow_y": null,
      "padding": null,
      "right": null,
      "top": null,
      "visibility": null,
      "width": null
     }
    },
    "ec30de7915754adfa97e277497c77873": {
     "model_module": "@jupyter-widgets/base",
     "model_module_version": "1.2.0",
     "model_name": "LayoutModel",
     "state": {
      "_model_module": "@jupyter-widgets/base",
      "_model_module_version": "1.2.0",
      "_model_name": "LayoutModel",
      "_view_count": null,
      "_view_module": "@jupyter-widgets/base",
      "_view_module_version": "1.2.0",
      "_view_name": "LayoutView",
      "align_content": null,
      "align_items": null,
      "align_self": null,
      "border": null,
      "bottom": null,
      "display": null,
      "flex": "2",
      "flex_flow": null,
      "grid_area": null,
      "grid_auto_columns": null,
      "grid_auto_flow": null,
      "grid_auto_rows": null,
      "grid_column": null,
      "grid_gap": null,
      "grid_row": null,
      "grid_template_areas": null,
      "grid_template_columns": null,
      "grid_template_rows": null,
      "height": null,
      "justify_content": null,
      "justify_items": null,
      "left": null,
      "margin": null,
      "max_height": null,
      "max_width": null,
      "min_height": null,
      "min_width": null,
      "object_fit": null,
      "object_position": null,
      "order": null,
      "overflow": null,
      "overflow_x": null,
      "overflow_y": null,
      "padding": null,
      "right": null,
      "top": null,
      "visibility": null,
      "width": null
     }
    },
    "ec45df5d41a5478c90e5f33cb53201e2": {
     "model_module": "@jupyter-widgets/controls",
     "model_module_version": "1.5.0",
     "model_name": "FloatProgressModel",
     "state": {
      "_dom_classes": [],
      "_model_module": "@jupyter-widgets/controls",
      "_model_module_version": "1.5.0",
      "_model_name": "FloatProgressModel",
      "_view_count": null,
      "_view_module": "@jupyter-widgets/controls",
      "_view_module_version": "1.5.0",
      "_view_name": "ProgressView",
      "bar_style": "success",
      "description": "",
      "description_tooltip": null,
      "layout": "IPY_MODEL_f4c42e3d72c143a69d1ddbbfc7c508e4",
      "max": 1,
      "min": 0,
      "orientation": "horizontal",
      "style": "IPY_MODEL_0c8c6336e374458e97ddc3a27bd92ee8",
      "value": 1
     }
    },
    "efd7c9c5644c4ee5983e963a3c1715a8": {
     "model_module": "@jupyter-widgets/controls",
     "model_module_version": "1.5.0",
     "model_name": "HTMLModel",
     "state": {
      "_dom_classes": [],
      "_model_module": "@jupyter-widgets/controls",
      "_model_module_version": "1.5.0",
      "_model_name": "HTMLModel",
      "_view_count": null,
      "_view_module": "@jupyter-widgets/controls",
      "_view_module_version": "1.5.0",
      "_view_name": "HTMLView",
      "description": "",
      "description_tooltip": null,
      "layout": "IPY_MODEL_30af141d135c4eb78913e3c3e3661719",
      "placeholder": "​",
      "style": "IPY_MODEL_df30e8c18ff64532ad17a06664e1fcfa",
      "value": " 1/1 [00:00&lt;00:00, 47.53it/s]"
     }
    },
    "f4c42e3d72c143a69d1ddbbfc7c508e4": {
     "model_module": "@jupyter-widgets/base",
     "model_module_version": "1.2.0",
     "model_name": "LayoutModel",
     "state": {
      "_model_module": "@jupyter-widgets/base",
      "_model_module_version": "1.2.0",
      "_model_name": "LayoutModel",
      "_view_count": null,
      "_view_module": "@jupyter-widgets/base",
      "_view_module_version": "1.2.0",
      "_view_name": "LayoutView",
      "align_content": null,
      "align_items": null,
      "align_self": null,
      "border": null,
      "bottom": null,
      "display": null,
      "flex": "2",
      "flex_flow": null,
      "grid_area": null,
      "grid_auto_columns": null,
      "grid_auto_flow": null,
      "grid_auto_rows": null,
      "grid_column": null,
      "grid_gap": null,
      "grid_row": null,
      "grid_template_areas": null,
      "grid_template_columns": null,
      "grid_template_rows": null,
      "height": null,
      "justify_content": null,
      "justify_items": null,
      "left": null,
      "margin": null,
      "max_height": null,
      "max_width": null,
      "min_height": null,
      "min_width": null,
      "object_fit": null,
      "object_position": null,
      "order": null,
      "overflow": null,
      "overflow_x": null,
      "overflow_y": null,
      "padding": null,
      "right": null,
      "top": null,
      "visibility": null,
      "width": null
     }
    },
    "f77a397a672c46b6b71b02cfa8a12beb": {
     "model_module": "@jupyter-widgets/controls",
     "model_module_version": "1.5.0",
     "model_name": "HBoxModel",
     "state": {
      "_dom_classes": [],
      "_model_module": "@jupyter-widgets/controls",
      "_model_module_version": "1.5.0",
      "_model_name": "HBoxModel",
      "_view_count": null,
      "_view_module": "@jupyter-widgets/controls",
      "_view_module_version": "1.5.0",
      "_view_name": "HBoxView",
      "box_style": "",
      "children": [
       "IPY_MODEL_40b0929c48b24445ae4fdb21ea2985b7",
       "IPY_MODEL_da797f421a5b45f38dc463c0c0183dee",
       "IPY_MODEL_7a21eaa6c71b448c8e4e0a8475d33877"
      ],
      "layout": "IPY_MODEL_9760fa65c5114b6398a8c3fc4b979e94"
     }
    }
   }
  }
 },
 "nbformat": 4,
 "nbformat_minor": 5
}
